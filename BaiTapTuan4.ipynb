{
 "cells": [
  {
   "cell_type": "code",
   "execution_count": 1,
   "id": "5e5f16b3-9bf3-40c8-ac44-b2796901fd51",
   "metadata": {},
   "outputs": [
    {
     "name": "stdin",
     "output_type": "stream",
     "text": [
      " 4\n"
     ]
    },
    {
     "name": "stdout",
     "output_type": "stream",
     "text": [
      "10\n"
     ]
    }
   ],
   "source": [
    "#W4A1\n",
    "\n",
    "n = int(input())\n",
    "dem = 0\n",
    "for i in range(1, n+1):\n",
    "    dem += i\n",
    "print(dem)"
   ]
  },
  {
   "cell_type": "code",
   "execution_count": 2,
   "id": "b44b6701-735c-4d66-b56e-284b26074bed",
   "metadata": {},
   "outputs": [
    {
     "name": "stdin",
     "output_type": "stream",
     "text": [
      " d\n"
     ]
    },
    {
     "name": "stdout",
     "output_type": "stream",
     "text": [
      "Hãy nhập số nguyên\n"
     ]
    },
    {
     "name": "stdin",
     "output_type": "stream",
     "text": [
      " -5\n"
     ]
    },
    {
     "name": "stdout",
     "output_type": "stream",
     "text": [
      "Hãy nhập số nguyên\n"
     ]
    },
    {
     "name": "stdin",
     "output_type": "stream",
     "text": [
      " 5\n"
     ]
    },
    {
     "name": "stdout",
     "output_type": "stream",
     "text": [
      "Đây là số nguyên tố\n"
     ]
    }
   ],
   "source": [
    "#W4A2\n",
    "\n",
    "def check(n):\n",
    "    for i in range(2, int(n**0.5)+1):\n",
    "        if (n%i == 0): return False\n",
    "    return n >= 2\n",
    "nhap = input()\n",
    "# cách 1\n",
    "# ktra = False\n",
    "# while not ktra:\n",
    "#     try: \n",
    "#         nhap = int(nhap)\n",
    "#         if (nhap > 0): ktra = True\n",
    "#     except:\n",
    "#         nhap = input()\n",
    "#         print(\"Hãy nhập số nguyên\")\n",
    "# if(check(nhap)):\n",
    "#     print(\"Đây là số nguyên tố\")\n",
    "# else: \n",
    "#     print(\"Đây không là số nguyên tố\")\n",
    "\n",
    "# cách 2\n",
    "while nhap.isdigit() == False:\n",
    "    print(\"Hãy nhập số nguyên\")\n",
    "    nhap = input()\n",
    "    if (nhap.isdigit() and int(nhap) < 0): nhap = \"\"\n",
    "nhap = int(nhap)\n",
    "if(check(nhap)):\n",
    "    print(\"Đây là số nguyên tố\")\n",
    "else: \n",
    "    print(\"Đây không là số nguyên tố\")\n",
    "\n",
    "# cách 3 - Dùng hàm hỗ trợ\n",
    "\n",
    "# def kiemtra(n):\n",
    "#     for i in n:\n",
    "#         if ('0' <= i <= '9'): continue\n",
    "#         else: return False\n",
    "#     return True\n"
   ]
  },
  {
   "cell_type": "code",
   "execution_count": 12,
   "id": "48c9bdd3-b7bf-4fc4-bc43-db4f50f23f6e",
   "metadata": {},
   "outputs": [
    {
     "name": "stdin",
     "output_type": "stream",
     "text": [
      " 5\n"
     ]
    },
    {
     "name": "stdout",
     "output_type": "stream",
     "text": [
      "120\n"
     ]
    }
   ],
   "source": [
    "#W4A3\n",
    "\n",
    "n = int(input())\n",
    "res = 1\n",
    "for i in range(1,n+1):\n",
    "    res*=i\n",
    "print(res)"
   ]
  },
  {
   "cell_type": "code",
   "execution_count": 13,
   "id": "deebc40c-2b3f-4e43-86de-1e6ff2645279",
   "metadata": {},
   "outputs": [
    {
     "name": "stdin",
     "output_type": "stream",
     "text": [
      " -15\n"
     ]
    },
    {
     "name": "stdout",
     "output_type": "stream",
     "text": [
      "2\n"
     ]
    }
   ],
   "source": [
    "#W4A4\n",
    "\n",
    "n = int(input())\n",
    "if (n < 0): n = -n\n",
    "dem = 0\n",
    "while(n > 0):\n",
    "    dem+=1\n",
    "    n//=10\n",
    "print(dem)"
   ]
  },
  {
   "cell_type": "code",
   "execution_count": 14,
   "id": "882f48e8-5edf-46ad-bd20-704e94744a2a",
   "metadata": {},
   "outputs": [
    {
     "name": "stdin",
     "output_type": "stream",
     "text": [
      " 5\n",
      " 1 20 12 42 5\n"
     ]
    },
    {
     "name": "stdout",
     "output_type": "stream",
     "text": [
      "I′ve found the meaning of life!\n"
     ]
    }
   ],
   "source": [
    "#W4A5\n",
    "\n",
    "n = int(input())\n",
    "tmp = list(map(int, input().split()))\n",
    "check = False\n",
    "for i in tmp:\n",
    "    if (i == 42): \n",
    "        check = True\n",
    "        break\n",
    "if (check):\n",
    "    print(\"I′ve found the meaning of life!\")\n",
    "else:\n",
    "    print(\"It′s a joke!\")"
   ]
  },
  {
   "cell_type": "code",
   "execution_count": 17,
   "id": "97d81886-c236-442a-b607-141fb4e88683",
   "metadata": {},
   "outputs": [
    {
     "name": "stdin",
     "output_type": "stream",
     "text": [
      " 2\n",
      " 1 5\n"
     ]
    },
    {
     "name": "stdout",
     "output_type": "stream",
     "text": [
      "10\n"
     ]
    },
    {
     "name": "stdin",
     "output_type": "stream",
     "text": [
      " 2 5\n"
     ]
    },
    {
     "name": "stdout",
     "output_type": "stream",
     "text": [
      "10\n"
     ]
    }
   ],
   "source": [
    "#W4A6\n",
    "\n",
    "def check(n):\n",
    "    for i in range(2, int(n**0.5)+1):\n",
    "        if (n%i == 0): return False\n",
    "    return n >= 2\n",
    "n = int(input())\n",
    "for i in range(n):\n",
    "    kq = 0\n",
    "    a, b = map(int, input().split())\n",
    "    for j in range(a, b+1):\n",
    "        if (check(j)): kq += j\n",
    "    print(kq)"
   ]
  },
  {
   "cell_type": "code",
   "execution_count": 26,
   "id": "b7636c3a-0822-445f-99af-dbf53432060e",
   "metadata": {},
   "outputs": [
    {
     "name": "stdin",
     "output_type": "stream",
     "text": [
      " 10\n"
     ]
    },
    {
     "name": "stdout",
     "output_type": "stream",
     "text": [
      "5\n"
     ]
    }
   ],
   "source": [
    "#W4A7\n",
    "\n",
    "kq = 0\n",
    "n = int(input())\n",
    "for i in range(2, int(n**0.5)+1):\n",
    "    if (n%i == 0):\n",
    "        while(n%i == 0):\n",
    "            n//=i\n",
    "        kq = i\n",
    "if (n > 1): kq = n\n",
    "print(kq)"
   ]
  },
  {
   "cell_type": "code",
   "execution_count": 24,
   "id": "118186c5-ed74-4b10-9882-86a0f1b17edb",
   "metadata": {},
   "outputs": [
    {
     "name": "stdin",
     "output_type": "stream",
     "text": [
      " 10\n"
     ]
    },
    {
     "name": "stdout",
     "output_type": "stream",
     "text": [
      "sau 2 bước và giá trị palindrome là 11\n"
     ]
    }
   ],
   "source": [
    "#W4A8\n",
    "\n",
    "def check(n):\n",
    "    tmp1 = n\n",
    "    tmp = 0\n",
    "    while(n > 0):\n",
    "        tmp = tmp*10 + n%10\n",
    "        n//=10\n",
    "    return tmp, tmp1 == tmp\n",
    "n = int(input())\n",
    "ktra = False\n",
    "buoc = 1\n",
    "while(ktra == False):\n",
    "    tmp, status = check(n)\n",
    "    ktra = status\n",
    "    if (ktra): break\n",
    "    n += tmp\n",
    "    buoc += 1\n",
    "print(f\"sau {buoc} bước và giá trị palindrome là {n}\")"
   ]
  },
  {
   "cell_type": "code",
   "execution_count": 28,
   "id": "388151ec-ccac-4dd5-b4ab-282ccb06ce6d",
   "metadata": {},
   "outputs": [
    {
     "name": "stdin",
     "output_type": "stream",
     "text": [
      " 121\n"
     ]
    },
    {
     "name": "stdout",
     "output_type": "stream",
     "text": [
      "1 4 9 16 25 36 49 64 81 "
     ]
    }
   ],
   "source": [
    "#W4A9\n",
    "\n",
    "ktra = False\n",
    "n = int(input())\n",
    "def check(n):\n",
    "    a = [0]*10\n",
    "    while(n > 0):\n",
    "        tmp = n%10\n",
    "        if (a[tmp] > 0): return False\n",
    "        a[tmp]+=1\n",
    "        n//=10\n",
    "    return True\n",
    "for i in range(1, int(n**0.5)+1):\n",
    "    if (check(i*i)): \n",
    "        print(i*i, end = ' ')\n",
    "        ktra = True\n",
    "if (not ktra): print(\"no number\")"
   ]
  },
  {
   "cell_type": "code",
   "execution_count": 56,
   "id": "5a8a41ff-e9e9-4573-9ac6-ff9abc6e6968",
   "metadata": {},
   "outputs": [
    {
     "name": "stdin",
     "output_type": "stream",
     "text": [
      " 10\n"
     ]
    },
    {
     "name": "stdout",
     "output_type": "stream",
     "text": [
      "9\n"
     ]
    }
   ],
   "source": [
    "#W4A10\n",
    "\n",
    "def solve(n):\n",
    "    dem = 0\n",
    "    while (n != 1):\n",
    "        if (n%2 == 0): n = n//2\n",
    "        else: n = 3*n+1\n",
    "        dem+=1\n",
    "    return dem\n",
    "n = int(input())\n",
    "mx, kq = 0, 0\n",
    "for i in range(1, n+1):\n",
    "    tmp = solve(i)\n",
    "    if (tmp > mx):\n",
    "        kq = i\n",
    "        mx = tmp\n",
    "print(kq)"
   ]
  },
  {
   "cell_type": "code",
   "execution_count": 29,
   "id": "964f03e0-c0ef-47a7-91fc-2f859df58437",
   "metadata": {},
   "outputs": [
    {
     "name": "stdin",
     "output_type": "stream",
     "text": [
      " 100\n"
     ]
    },
    {
     "name": "stdout",
     "output_type": "stream",
     "text": [
      "9\n"
     ]
    }
   ],
   "source": [
    "#W4A11\n",
    "\n",
    "kq = 1\n",
    "n = int(input())\n",
    "for i in range(2, int(n**0.5)+1):\n",
    "    if (n%i == 0):\n",
    "        dem = 0\n",
    "        while(n%i == 0):\n",
    "            dem += 1\n",
    "            n//=i\n",
    "        kq *= dem + 1\n",
    "if (n > 1): kq*=2\n",
    "print(kq)"
   ]
  },
  {
   "cell_type": "code",
   "execution_count": 31,
   "id": "17a3114e-3969-4d88-b4e1-362ee2d2741a",
   "metadata": {},
   "outputs": [
    {
     "name": "stdin",
     "output_type": "stream",
     "text": [
      " 100000 5\n"
     ]
    },
    {
     "name": "stdout",
     "output_type": "stream",
     "text": [
      "103549\n"
     ]
    }
   ],
   "source": [
    "#W4A12\n",
    "\n",
    "x, thang = map(int, input().split())\n",
    "for i in range(thang):\n",
    "    x = (1 + 0.7/100)*x\n",
    "print(int(x))"
   ]
  },
  {
   "cell_type": "code",
   "execution_count": 43,
   "id": "ec37651f-53c7-4780-9c04-4198e1e5688a",
   "metadata": {},
   "outputs": [
    {
     "name": "stdin",
     "output_type": "stream",
     "text": [
      " 220 284\n"
     ]
    },
    {
     "name": "stdout",
     "output_type": "stream",
     "text": [
      "true\n"
     ]
    }
   ],
   "source": [
    "#W4A13\n",
    "\n",
    "def tinhuoc(n):\n",
    "    kq = 1\n",
    "    for i in range(2, int(n**0.5)+1):\n",
    "        if (n%i == 0):\n",
    "            dem = 0\n",
    "            while(n%i == 0):\n",
    "                dem += 1\n",
    "                n//=i\n",
    "            kq *= (i**(dem+1) -1)/(i - 1)\n",
    "    if (n > 1):\n",
    "        kq*=(n**2-1)/(n-1)\n",
    "    return int(kq)\n",
    "a, b = map(int, input().split())\n",
    "if (a == tinhuoc(b)-b and tinhuoc(a)-a == b): print(\"true\")\n",
    "else: print(\"false\")"
   ]
  },
  {
   "cell_type": "code",
   "execution_count": 54,
   "id": "f03eac8a-620d-46ef-b2f5-d30ae5de678f",
   "metadata": {},
   "outputs": [
    {
     "name": "stdin",
     "output_type": "stream",
     "text": [
      " 5 7\n"
     ]
    },
    {
     "name": "stdout",
     "output_type": "stream",
     "text": [
      "1\n"
     ]
    }
   ],
   "source": [
    "#W4A14\n",
    "\n",
    "def ucln(a, b):\n",
    "    while(b != 0):\n",
    "        c = b//a\n",
    "        a = b\n",
    "        b = c\n",
    "    return a\n",
    "a, b = map(int, input().split())\n",
    "print(ucln(a,b))"
   ]
  },
  {
   "cell_type": "code",
   "execution_count": 55,
   "id": "cd2cbfbc-227b-40bf-9d37-e91548f14bbd",
   "metadata": {},
   "outputs": [
    {
     "name": "stdin",
     "output_type": "stream",
     "text": [
      " 15 48\n"
     ]
    },
    {
     "name": "stdout",
     "output_type": "stream",
     "text": [
      "Cho 6 va ga 9\n"
     ]
    }
   ],
   "source": [
    "#WA15\n",
    "\n",
    "tong, chan = map(int, input().split())\n",
    "cho = (4*tong - chan)//2\n",
    "ga = tong - cho\n",
    "if (cho >= 0 and ga >= 0):\n",
    "    print(f\"Cho {cho} va ga {ga}\")\n",
    "else: print(\"invalid\")"
   ]
  }
 ],
 "metadata": {
  "kernelspec": {
   "display_name": "Python 3 (ipykernel)",
   "language": "python",
   "name": "python3"
  },
  "language_info": {
   "codemirror_mode": {
    "name": "ipython",
    "version": 3
   },
   "file_extension": ".py",
   "mimetype": "text/x-python",
   "name": "python",
   "nbconvert_exporter": "python",
   "pygments_lexer": "ipython3",
   "version": "3.13.7"
  }
 },
 "nbformat": 4,
 "nbformat_minor": 5
}
