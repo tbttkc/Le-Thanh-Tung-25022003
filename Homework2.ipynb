{
 "cells": [
  {
   "cell_type": "code",
   "execution_count": 31,
   "id": "a7a72f58-3113-4d73-98c1-f71510cd729c",
   "metadata": {},
   "outputs": [
    {
     "name": "stdin",
     "output_type": "stream",
     "text": [
      " 4 5\n"
     ]
    },
    {
     "name": "stdout",
     "output_type": "stream",
     "text": [
      "Chu vi: 18 Dien tich: 20\n"
     ]
    }
   ],
   "source": [
    "a, b = map(float, input().split())\n",
    "cv = (a+b)*2\n",
    "dt = a*b\n",
    "# cách 2\n",
    "# cv = (a+b) << 1\n",
    "print(f\"Chu vi: {int(cv) if cv.is_integer() else cv} Dien tich: {int(dt) if dt.is_integer() else dt}\")"
   ]
  },
  {
   "cell_type": "code",
   "execution_count": 11,
   "id": "31b9f059-1dc4-4d07-860a-ac284027b022",
   "metadata": {},
   "outputs": [
    {
     "name": "stdin",
     "output_type": "stream",
     "text": [
      " 5\n"
     ]
    },
    {
     "name": "stdout",
     "output_type": "stream",
     "text": [
      "Chu vi: 31.42 Dien tich: 78.54\n"
     ]
    }
   ],
   "source": [
    "# Bài 2\n",
    "\n",
    "import math\n",
    "pi = math.pi\n",
    "r = float(input())\n",
    "cv = 2*pi*r\n",
    "dt = r*r*pi\n",
    "print(f\"Chu vi: {cv:.2f} Dien tich: {dt:.2f}\")"
   ]
  },
  {
   "cell_type": "code",
   "execution_count": 32,
   "id": "57df9c91-d36c-4918-83c7-551f69bbeb04",
   "metadata": {},
   "outputs": [
    {
     "name": "stdin",
     "output_type": "stream",
     "text": [
      " 3 4 5\n"
     ]
    },
    {
     "name": "stdout",
     "output_type": "stream",
     "text": [
      "Tam giac vuong\n",
      "Chu vi: 12 Dien tich: 6\n"
     ]
    }
   ],
   "source": [
    "# Bài 3\n",
    "\n",
    "a, b, c = map(float, input().split())\n",
    "if (a+b>c and a+c>b and b+c>a):\n",
    "    if (a == b and b == c): print(\"Tam giac deu\")\n",
    "    elif (a == b or b == c or a == c): print(\"Tam giac can\")\n",
    "    elif (a**2 + b**2 == c**2 or a**2 + c**2 == b**2 or b**2 + c**2 == a**2): print(\"Tam giac vuong\")\n",
    "    # cách 2\n",
    "    # elif sorted([a,b,c])[2]**2 == sorted([a,b,c])[0]**2 + sorted([a,b,c])[1]**2: print(\"Tam giac vuong\")\n",
    "    else: print(\"Tam giac thuong\")\n",
    "    cv = a + b + c\n",
    "    dt = ((cv/2)*(cv/2 - a)*(cv/2 -b)*(cv/2 - c))**0.5\n",
    "    print(f\"Chu vi: {int(cv) if cv.is_integer() else cv} Dien tich: {int(dt) if dt.is_integer() else dt}\")\n",
    "else: print(\"Khong la ba canh cua mot tam giac\")"
   ]
  },
  {
   "cell_type": "code",
   "execution_count": 15,
   "id": "40cf2066-6deb-4153-b1b9-4909d3e083d3",
   "metadata": {},
   "outputs": [
    {
     "name": "stdin",
     "output_type": "stream",
     "text": [
      " 1 2\n"
     ]
    },
    {
     "name": "stdout",
     "output_type": "stream",
     "text": [
      "Nghiem cua phuong trinh 1x + 2 = 0 la -2\n"
     ]
    }
   ],
   "source": [
    "# Bài 4\n",
    "\n",
    "a, b = map(float, input().split())\n",
    "print(f\"Nghiem cua phuong trinh {int(a) if a.is_integer() else a}x + {int(b) if b.is_integer() else b} = 0 la {int(-b/a) if (-b/a).is_integer() else (-b/a)}\")"
   ]
  },
  {
   "cell_type": "code",
   "execution_count": 21,
   "id": "6215e3ce-2607-4f27-b53e-0f45a262491e",
   "metadata": {},
   "outputs": [
    {
     "name": "stdin",
     "output_type": "stream",
     "text": [
      " 1 -4 3\n"
     ]
    },
    {
     "name": "stdout",
     "output_type": "stream",
     "text": [
      "phuong trinh co 2 nghiem phan biet là x1 = 3 va x2 = 1\n"
     ]
    }
   ],
   "source": [
    "# Bài 5\n",
    "\n",
    "a, b, c = map(float, input().split())\n",
    "delta = b*b - 4*a*c\n",
    "if (delta < 0): print(\"phuong trinh vo nghiem\")\n",
    "elif (delta == 0): print(f\"phuong trình co nghiem kep la {-b/(2*a)}\")\n",
    "else:\n",
    "    x1 = (-b + delta**0.5)/(2*a)\n",
    "    x2 = (-b - delta**0.5)/(2*a)\n",
    "    print(f\"phuong trinh co 2 nghiem phan biet là x1 = {int(x1) if x1.is_integer() else x1} va x2 = {int(x2) if x2.is_integer() else x2}\")"
   ]
  },
  {
   "cell_type": "code",
   "execution_count": 37,
   "id": "6057e40e-c568-45fc-b9b5-bb1b6518f916",
   "metadata": {},
   "outputs": [
    {
     "name": "stdin",
     "output_type": "stream",
     "text": [
      " 1 2 3 4\n"
     ]
    },
    {
     "name": "stdout",
     "output_type": "stream",
     "text": [
      "gia tri lon nhat la: 4\n"
     ]
    }
   ],
   "source": [
    "# Bài 6\n",
    "\n",
    "a, b, c, d = map(float, input().split())\n",
    "mx = max({a,b,c,d})\n",
    "# cách 2\n",
    "# tung = [a,b,c,d]\n",
    "# sorted(tung)\n",
    "# print(tung[3])\n",
    "# cách 3\n",
    "# tung = [a,b,c,d]\n",
    "# def timmax():\n",
    "#     mx = 0\n",
    "#     for i in tung:\n",
    "#         mx = max(mx, i)\n",
    "#     return mx\n",
    "# print(timmax())\n",
    "print(f\"gia tri lon nhat la: {int(mx) if mx.is_integer() else mx}\")"
   ]
  },
  {
   "cell_type": "code",
   "execution_count": 35,
   "id": "de5d452f-ae06-4936-a650-b13b4e2e6776",
   "metadata": {},
   "outputs": [
    {
     "name": "stdin",
     "output_type": "stream",
     "text": [
      " 1 2 3 4\n"
     ]
    },
    {
     "name": "stdout",
     "output_type": "stream",
     "text": [
      "gia tri nho nhat la: 1\n"
     ]
    }
   ],
   "source": [
    "# Bài 7\n",
    "\n",
    "a, b, c, d = map(float, input().split())\n",
    "mn = min({a,b,c,d})\n",
    "# cách 2\n",
    "# tung = [a,b,c,d]\n",
    "# sorted(tung)\n",
    "# print(tung[0])\n",
    "# cách 3\n",
    "# def timmn():\n",
    "#     mn = 1000000000000000000\n",
    "#     for i in tung:\n",
    "#         mn = min(mn, i)\n",
    "#     return mn\n",
    "# print(timmin())\n",
    "print(f\"gia tri nho nhat la: {int(mn) if mn.is_integer() else mn}\")"
   ]
  },
  {
   "cell_type": "code",
   "execution_count": 27,
   "id": "3867c1d3-e672-462d-9b7e-b46453e273d2",
   "metadata": {},
   "outputs": [
    {
     "name": "stdin",
     "output_type": "stream",
     "text": [
      "Nhap cac tham so a, b, m, c, d, n theo dung thu tu 1 2 3 4 5 6\n"
     ]
    },
    {
     "name": "stdout",
     "output_type": "stream",
     "text": [
      "x la -1 y la 2\n"
     ]
    }
   ],
   "source": [
    "# Bài 8\n",
    "\n",
    "a, b, m, c, d, n = map(float, input(\"Nhap cac tham so a, b, m, c, d, n theo dung thu tu\").split())\n",
    "y = (m-n*a/c)/(b - a*d/c)\n",
    "x = (m - b*y)/a\n",
    "print(f\"x la {int(x) if x.is_integer() else x} y la {int(y) if y.is_integer() else y}\")"
   ]
  },
  {
   "cell_type": "code",
   "execution_count": 3,
   "id": "4ebac524-778e-4cc4-9093-dea241c72a21",
   "metadata": {},
   "outputs": [
    {
     "name": "stdin",
     "output_type": "stream",
     "text": [
      " 6965\n"
     ]
    },
    {
     "name": "stdout",
     "output_type": "stream",
     "text": [
      "1 gio 56 phut 5 giay\n"
     ]
    }
   ],
   "source": [
    "# Bài 9\n",
    "\n",
    "x = int(input())\n",
    "gio = (x//3600)\n",
    "phut = (x - gio*3600)//60\n",
    "giay = x - gio*3600 - phut*60\n",
    "print(f\"{gio} gio {phut} phut {giay} giay\")"
   ]
  },
  {
   "cell_type": "code",
   "execution_count": 1,
   "id": "150a68df-c2b3-487b-83a7-8af52233354d",
   "metadata": {},
   "outputs": [
    {
     "name": "stdin",
     "output_type": "stream",
     "text": [
      " 0 0\n",
      " 3\n",
      " 0 3\n"
     ]
    },
    {
     "name": "stdout",
     "output_type": "stream",
     "text": [
      "Thuoc duong tron\n"
     ]
    }
   ],
   "source": [
    "# Bài 10\n",
    "\n",
    "from math import*\n",
    "a, b = map(float, input().split())\n",
    "r = float(input())\n",
    "x, y = map(float, input().split())\n",
    "tmp = (x-a)**2 + (y-b)**2 - r**2\n",
    "if (isclose(tmp, 0)): print(\"Thuoc duong tron\")\n",
    "else: print(\"Khong thuoc duong tron\")"
   ]
  },
  {
   "cell_type": "code",
   "execution_count": 29,
   "id": "4c76b649-3b9f-4f1a-8be2-6ff5e454d6b0",
   "metadata": {},
   "outputs": [
    {
     "name": "stdin",
     "output_type": "stream",
     "text": [
      " 2.3 1.2\n"
     ]
    },
    {
     "name": "stdout",
     "output_type": "stream",
     "text": [
      "2.72\n"
     ]
    }
   ],
   "source": [
    "# Bài 11\n",
    "\n",
    "a, b = map(float, input().split())\n",
    "print(f\"{a**b:.2f}\")"
   ]
  },
  {
   "cell_type": "code",
   "execution_count": null,
   "id": "523140fc-5a13-45ae-ae05-9a5712853ede",
   "metadata": {},
   "outputs": [],
   "source": []
  }
 ],
 "metadata": {
  "kernelspec": {
   "display_name": "Python 3 (ipykernel)",
   "language": "python",
   "name": "python3"
  },
  "language_info": {
   "codemirror_mode": {
    "name": "ipython",
    "version": 3
   },
   "file_extension": ".py",
   "mimetype": "text/x-python",
   "name": "python",
   "nbconvert_exporter": "python",
   "pygments_lexer": "ipython3",
   "version": "3.13.7"
  }
 },
 "nbformat": 4,
 "nbformat_minor": 5
}
