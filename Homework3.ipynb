{
 "cells": [
  {
   "cell_type": "code",
   "execution_count": 2,
   "id": "38a836f3-af50-4bef-b13b-30940cc70213",
   "metadata": {},
   "outputs": [
    {
     "name": "stdout",
     "output_type": "stream",
     "text": [
      "1 2 3 4 5 6 7 8 9 10 11 12 13 14 15 16 17 18 19 20 21 22 23 24 25 26 27 28 29 30 31 32 33 34 35 36 37 38 39 40 41 42 43 44 45 46 47 48 49 50 51 52 53 54 55 56 57 58 59 60 61 62 63 64 65 66 67 68 69 70 71 72 73 74 75 76 77 78 79 80 81 82 83 84 85 86 87 88 89 90 91 92 93 94 95 96 97 98 99 "
     ]
    }
   ],
   "source": [
    "# Bài 1\n",
    "\n",
    "for i in range(1,100):\n",
    "    print(i, end = ' ')"
   ]
  },
  {
   "cell_type": "code",
   "execution_count": 1,
   "id": "73ddf323-9e45-4c90-bd48-44ef9f50bbb6",
   "metadata": {},
   "outputs": [
    {
     "name": "stdout",
     "output_type": "stream",
     "text": [
      "0 3 6 9 12 15 18 21 24 27 30 33 36 39 42 45 48 51 54 57 60 63 66 69 72 75 78 81 84 87 90 93 96 99 "
     ]
    }
   ],
   "source": [
    "# Bài 2\n",
    "\n",
    "for i in range(100):\n",
    "    if (i%3 == 0): print(i, end = ' ')"
   ]
  },
  {
   "cell_type": "code",
   "execution_count": 3,
   "id": "eb2b2d65-2b12-42d0-a44a-1cbc7ab6900c",
   "metadata": {},
   "outputs": [
    {
     "name": "stdin",
     "output_type": "stream",
     "text": [
      " 5\n"
     ]
    },
    {
     "name": "stdout",
     "output_type": "stream",
     "text": [
      "5 x 1 = 5\n",
      "5 x 2 = 10\n",
      "5 x 3 = 15\n",
      "5 x 4 = 20\n",
      "5 x 5 = 25\n",
      "5 x 6 = 30\n",
      "5 x 7 = 35\n",
      "5 x 8 = 40\n",
      "5 x 9 = 45\n",
      "5 x 10 = 50\n"
     ]
    }
   ],
   "source": [
    "# Bài 3\n",
    "\n",
    "a = int(input())\n",
    "for i in range(1,11):\n",
    "    print(f\"{a} x {i} = {a*i}\")"
   ]
  },
  {
   "cell_type": "code",
   "execution_count": 44,
   "id": "bc49e9d9-7e88-4a8f-9c1f-a320bcd9a5bc",
   "metadata": {},
   "outputs": [
    {
     "name": "stdin",
     "output_type": "stream",
     "text": [
      " 4\n"
     ]
    },
    {
     "name": "stdout",
     "output_type": "stream",
     "text": [
      "   *\n",
      "  * *\n",
      " *   *\n",
      "*******\n"
     ]
    }
   ],
   "source": [
    "# Bài 4\n",
    "\n",
    "n = int(input())\n",
    "for i in range(1,n+1):\n",
    "    if (i == 1): print(\" \"*(n-1) + \"*\")\n",
    "    elif (i == n): print (\"*\"*(2*n-1))\n",
    "    else:\n",
    "        print(\" \"*(n-1-(i-1)) + \"*\" + \" \"*(i-1), end = '')\n",
    "        #print()\n",
    "        print(\" \"*(i-2) + \"*\")\n",
    "        "
   ]
  },
  {
   "cell_type": "code",
   "execution_count": 4,
   "id": "b8c10aec-b242-45f8-8376-1ef8edee3dc2",
   "metadata": {},
   "outputs": [
    {
     "name": "stdin",
     "output_type": "stream",
     "text": [
      " 4\n"
     ]
    },
    {
     "name": "stdout",
     "output_type": "stream",
     "text": [
      "10\n"
     ]
    }
   ],
   "source": [
    "# Bài 5\n",
    "\n",
    "dem = 0\n",
    "n = int(input())\n",
    "for i in range(1,n+1):\n",
    "    dem += i\n",
    "print(dem)"
   ]
  },
  {
   "cell_type": "code",
   "execution_count": 5,
   "id": "52b42cb8-fd1d-498f-97b2-6b037fe6b6a6",
   "metadata": {},
   "outputs": [
    {
     "name": "stdin",
     "output_type": "stream",
     "text": [
      " 6\n"
     ]
    },
    {
     "name": "stdout",
     "output_type": "stream",
     "text": [
      "1 2 3 6 "
     ]
    }
   ],
   "source": [
    "# Bài 6\n",
    "\n",
    "n = int(input())\n",
    "for i in range(1, n+1):\n",
    "    if (n%i == 0): print(i, end = ' ')"
   ]
  },
  {
   "cell_type": "code",
   "execution_count": 6,
   "id": "92e68f9f-14a2-4e5c-892a-95985b0830f5",
   "metadata": {},
   "outputs": [
    {
     "name": "stdin",
     "output_type": "stream",
     "text": [
      " 78\n"
     ]
    },
    {
     "name": "stdout",
     "output_type": "stream",
     "text": [
      "168\n"
     ]
    }
   ],
   "source": [
    "# Bài 7\n",
    "\n",
    "def tinhuoc(n):\n",
    "    kq = 1\n",
    "    for i in range(2, int(n**0.5)+1):\n",
    "        if (n%i == 0):\n",
    "            dem = 0\n",
    "            while(n%i == 0):\n",
    "                dem += 1\n",
    "                n//=i\n",
    "            kq *= (i**(dem+1) -1)/(i - 1)\n",
    "    if (n > 1):\n",
    "        kq*=(n**2-1)/(n-1)\n",
    "    return int(kq)\n",
    "n = int(input())\n",
    "print(tinhuoc(n))"
   ]
  },
  {
   "cell_type": "code",
   "execution_count": 7,
   "id": "0414cf7f-3425-4122-a2f2-f5b71b381f5a",
   "metadata": {},
   "outputs": [
    {
     "name": "stdin",
     "output_type": "stream",
     "text": [
      " 10 20\n"
     ]
    },
    {
     "name": "stdout",
     "output_type": "stream",
     "text": [
      "1 2 5 10 "
     ]
    }
   ],
   "source": [
    "# Bài 8\n",
    "\n",
    "a, b = map(int, input().split())\n",
    "for i in range(1, min(a,b)+1):\n",
    "    if (a%i == 0 and b%i == 0): print(i, end = ' ')\n"
   ]
  },
  {
   "cell_type": "code",
   "execution_count": 8,
   "id": "185f00ce-a3f1-4f5f-9404-845b6e05e214",
   "metadata": {},
   "outputs": [
    {
     "name": "stdin",
     "output_type": "stream",
     "text": [
      " 4\n"
     ]
    },
    {
     "name": "stdout",
     "output_type": "stream",
     "text": [
      "so chinh phuong\n"
     ]
    }
   ],
   "source": [
    "# Bài 9\n",
    "\n",
    "a = int(input())\n",
    "b = int(a**0.5)\n",
    "if (b*b == a): print(\"so chinh phuong\")\n",
    "else: print(\"khong la so chinh phuong\")"
   ]
  },
  {
   "cell_type": "code",
   "execution_count": 11,
   "id": "7e580e80-6dab-421b-a85f-06ff820c849e",
   "metadata": {},
   "outputs": [
    {
     "name": "stdin",
     "output_type": "stream",
     "text": [
      " 6\n"
     ]
    },
    {
     "name": "stdout",
     "output_type": "stream",
     "text": [
      "day la so hoan hao\n"
     ]
    }
   ],
   "source": [
    "# Bài 10\n",
    "\n",
    "def tinhuoc(n):\n",
    "    kq = 1\n",
    "    for i in range(2, int(n**0.5)+1):\n",
    "        if (n%i == 0):\n",
    "            dem = 0\n",
    "            while(n%i == 0):\n",
    "                dem += 1\n",
    "                n//=i\n",
    "            kq *= (i**(dem+1) -1)/(i - 1)\n",
    "    if (n > 1):\n",
    "        kq*=(n**2-1)/(n-1)\n",
    "    return int(kq)\n",
    "n = int(input())\n",
    "if (tinhuoc(n) == 2*n): print(\"day la so hoan hao\")\n",
    "else: print(\"khong la so hoan hao\")"
   ]
  },
  {
   "cell_type": "code",
   "execution_count": 12,
   "id": "01a9d5c1-a740-49bf-b050-d91d5edf8be7",
   "metadata": {},
   "outputs": [
    {
     "name": "stdin",
     "output_type": "stream",
     "text": [
      " -10\n"
     ]
    },
    {
     "name": "stdout",
     "output_type": "stream",
     "text": [
      "Vui long nhap dung quy tac\n"
     ]
    },
    {
     "name": "stdin",
     "output_type": "stream",
     "text": [
      " 5\n"
     ]
    },
    {
     "name": "stdout",
     "output_type": "stream",
     "text": [
      "Bạn đã nhập đúng quy tắc\n"
     ]
    }
   ],
   "source": [
    "# Bài 11\n",
    "\n",
    "a = int(input())\n",
    "while(a <= 0):\n",
    "    print(\"Vui long nhap dung quy tac\")\n",
    "    a = int(input())\n",
    "print(\"Bạn đã nhập đúng quy tắc\")"
   ]
  },
  {
   "cell_type": "code",
   "execution_count": 14,
   "id": "85c4fcaa-d15c-49c1-951d-19ca0277002c",
   "metadata": {},
   "outputs": [
    {
     "name": "stdin",
     "output_type": "stream",
     "text": [
      " 10\n"
     ]
    },
    {
     "name": "stdout",
     "output_type": "stream",
     "text": [
      "3\n"
     ]
    }
   ],
   "source": [
    "# Bài 12\n",
    "\n",
    "kq = 0\n",
    "n = int(input())\n",
    "for i in range(1,n):\n",
    "    if ((i*(i+1))//2 >= n): break\n",
    "    kq = i\n",
    "print(kq)"
   ]
  },
  {
   "cell_type": "code",
   "execution_count": 16,
   "id": "be434737-1c9f-4f43-b6f2-d76740cf51e1",
   "metadata": {},
   "outputs": [
    {
     "name": "stdin",
     "output_type": "stream",
     "text": [
      " 4\n"
     ]
    },
    {
     "name": "stdout",
     "output_type": "stream",
     "text": [
      "31\n"
     ]
    }
   ],
   "source": [
    "# Bài 13\n",
    "\n",
    "a = int(input())\n",
    "tong = 1\n",
    "tmp = 1\n",
    "while True:\n",
    "    if (tong > a): break\n",
    "    tmp+=1\n",
    "    tong += 1/(tmp)\n",
    "print(tmp)"
   ]
  },
  {
   "cell_type": "code",
   "execution_count": 17,
   "id": "5949723c-0aa8-49eb-86ed-0fc343403df4",
   "metadata": {},
   "outputs": [
    {
     "name": "stdin",
     "output_type": "stream",
     "text": [
      " 1\n",
      " 5\n",
      " 2\n",
      " -1\n"
     ]
    },
    {
     "name": "stdout",
     "output_type": "stream",
     "text": [
      "5\n"
     ]
    }
   ],
   "source": [
    "# Bài 14\n",
    "\n",
    "a = int(input())\n",
    "mx = a\n",
    "while(a!=-1):\n",
    "    a = int(input())\n",
    "    mx = max(a, mx)\n",
    "print(mx)"
   ]
  },
  {
   "cell_type": "code",
   "execution_count": 18,
   "id": "ddccf399-0d4f-483f-8773-28620d4dd79c",
   "metadata": {},
   "outputs": [
    {
     "name": "stdin",
     "output_type": "stream",
     "text": [
      " 10\n"
     ]
    },
    {
     "name": "stdout",
     "output_type": "stream",
     "text": [
      "2\n"
     ]
    }
   ],
   "source": [
    "# Bài 15\n",
    "\n",
    "# cách 1 dùng xâu \n",
    "# a = input()\n",
    "# print(len(a))\n",
    "\n",
    "# cách 2 dùng lặp\n",
    "def solve(n):\n",
    "    dem = 0\n",
    "    while(n>0):\n",
    "        dem +=1\n",
    "        n//=10\n",
    "    return dem\n",
    "a = int(input())\n",
    "print(solve(a))\n",
    "# cách 3 dùng xâu + for --> len\n",
    "\n",
    "# dem = 0\n",
    "# for i in a:\n",
    "#     dem += 1"
   ]
  },
  {
   "cell_type": "code",
   "execution_count": 19,
   "id": "f932f6c9-b3dc-475b-ae93-ac75600343cb",
   "metadata": {},
   "outputs": [
    {
     "name": "stdin",
     "output_type": "stream",
     "text": [
      " 121\n"
     ]
    },
    {
     "name": "stdout",
     "output_type": "stream",
     "text": [
      "co 1 so chan va 2 so le\n"
     ]
    }
   ],
   "source": [
    "# Bài 16\n",
    "\n",
    "a = int(input())\n",
    "chan, le = 0, 0\n",
    "while (a>0):\n",
    "    tmp = a%10\n",
    "    if (tmp%2 == 0): chan +=1\n",
    "    else: le += 1\n",
    "    a//=10\n",
    "print(f\"co {chan} so chan va {le} so le\")"
   ]
  },
  {
   "cell_type": "code",
   "execution_count": 20,
   "id": "93074534-6142-4acc-9d9a-6ca2372b171a",
   "metadata": {},
   "outputs": [
    {
     "name": "stdin",
     "output_type": "stream",
     "text": [
      " 121\n"
     ]
    },
    {
     "name": "stdout",
     "output_type": "stream",
     "text": [
      "4\n"
     ]
    }
   ],
   "source": [
    "# Bài 17\n",
    "\n",
    "a = int(input())\n",
    "tong = 0\n",
    "while (a > 0):\n",
    "    tong += a%10\n",
    "    a//=10\n",
    "print(tong)"
   ]
  },
  {
   "cell_type": "code",
   "execution_count": 22,
   "id": "3b6045be-9f35-4c8f-9ec6-43f932d9bdcf",
   "metadata": {},
   "outputs": [
    {
     "name": "stdin",
     "output_type": "stream",
     "text": [
      " 27\n"
     ]
    },
    {
     "name": "stdout",
     "output_type": "stream",
     "text": [
      "so 27 co la dang 3^k\n"
     ]
    }
   ],
   "source": [
    "# Bài 18\n",
    "\n",
    "def check(n):\n",
    "    for i in range(1, int(n**(1/3)+1)):\n",
    "        if (3**i == n): return True\n",
    "    return False\n",
    "n = int(input())\n",
    "if (check(n)):\n",
    "    print(f\"so {n} co la dang 3^k\")\n",
    "else: print(f\"so {n} khong la dang 3^k\")"
   ]
  },
  {
   "cell_type": "code",
   "execution_count": 26,
   "id": "e00fdc9b-1521-48f7-9ac1-b8e6b1ed7f74",
   "metadata": {},
   "outputs": [
    {
     "name": "stdin",
     "output_type": "stream",
     "text": [
      " 10\n"
     ]
    },
    {
     "name": "stdout",
     "output_type": "stream",
     "text": [
      "8\n"
     ]
    }
   ],
   "source": [
    "# Bài 19\n",
    "\n",
    "A = int(input())\n",
    "a, b = 1,1\n",
    "while (b <= A):\n",
    "    c = a+b\n",
    "    a = b\n",
    "    b = c\n",
    "print(a)"
   ]
  },
  {
   "cell_type": "code",
   "execution_count": 29,
   "id": "c53a84a8-0ef7-4633-99c7-c82b528d13b9",
   "metadata": {},
   "outputs": [
    {
     "name": "stdin",
     "output_type": "stream",
     "text": [
      " 235\n"
     ]
    },
    {
     "name": "stdout",
     "output_type": "stream",
     "text": [
      "3\n"
     ]
    }
   ],
   "source": [
    "# Bài 20\n",
    "\n",
    "def check(n):\n",
    "    for i in range(2, int(n**0.5)+1):\n",
    "        if (n%i== 0): return False;\n",
    "    return n >= 2\n",
    "n = int(input())\n",
    "dem = 0\n",
    "while (n > 0):\n",
    "    tmp = n%10\n",
    "    if (check(tmp)): dem+=1\n",
    "    n//=10\n",
    "print(dem)"
   ]
  },
  {
   "cell_type": "code",
   "execution_count": null,
   "id": "a35b4b5f-b59f-4033-828b-43aef412ef7d",
   "metadata": {},
   "outputs": [],
   "source": []
  }
 ],
 "metadata": {
  "kernelspec": {
   "display_name": "Python 3 (ipykernel)",
   "language": "python",
   "name": "python3"
  },
  "language_info": {
   "codemirror_mode": {
    "name": "ipython",
    "version": 3
   },
   "file_extension": ".py",
   "mimetype": "text/x-python",
   "name": "python",
   "nbconvert_exporter": "python",
   "pygments_lexer": "ipython3",
   "version": "3.13.7"
  }
 },
 "nbformat": 4,
 "nbformat_minor": 5
}
