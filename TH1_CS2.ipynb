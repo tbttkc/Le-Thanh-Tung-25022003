{
 "cells": [
  {
   "cell_type": "code",
   "execution_count": 32,
   "id": "4b02dcd5-e21f-4986-a0a7-7075adff63db",
   "metadata": {},
   "outputs": [
    {
     "name": "stdout",
     "output_type": "stream",
     "text": [
      "2\n"
     ]
    }
   ],
   "source": [
    "# W1A1\n",
    "\n",
    "a = 7             # Gán giá trị 7 vào biến a\n",
    "b = 5             # Gán giá trị 5 vào biến b\n",
    "c = a - b         # Thực hiện phép trừ: 7 - 5, kết quả gán cho biến c\n",
    "print(c)          # In ra kết quả của c (2)"
   ]
  },
  {
   "cell_type": "code",
   "execution_count": 31,
   "id": "c950b2e8-6324-457b-8b9e-4feedc9d011f",
   "metadata": {},
   "outputs": [
    {
     "name": "stdout",
     "output_type": "stream",
     "text": [
      "Thành phố:  Hà Nội  - Năm:  2025\n"
     ]
    }
   ],
   "source": [
    "# W1A2\n",
    "\n",
    "city = \"Hà Nội\"                          # Gán chuỗi \"Hà Nội\" vào biến city\n",
    "year = 2025                              # Gán số nguyên 2025 vào biến year\n",
    "print(\"Thành phố: \", city, \" - Năm: \", year)  # In ra màn hình chuỗi \"Thành phố: Hà Nội - Năm: 2025\""
   ]
  },
  {
   "cell_type": "code",
   "execution_count": 29,
   "id": "a365da20-0516-46b7-8ec4-3905ad558a79",
   "metadata": {},
   "outputs": [
    {
     "name": "stdout",
     "output_type": "stream",
     "text": [
      "10\n"
     ]
    }
   ],
   "source": [
    "# W1A3\n",
    "\n",
    "n = 4              # Gán n = 4 (số lượng phần tử cần tính tổng)\n",
    "t = 0              # Khởi tạo biến t = 0 (dùng để lưu tổng)\n",
    "for i in range(1, n+1):   # Vòng lặp từ i = 1 đến i = n (bao gồm n)\n",
    "    t += i                # Cộng dồn giá trị i vào biến t\n",
    "print(t)           # In ra kết quả tổng (1 + 2 + 3 + 4 = 10)"
   ]
  },
  {
   "cell_type": "code",
   "execution_count": 1,
   "id": "23fb2e55-3c36-48b6-b276-d39c2d870eb7",
   "metadata": {},
   "outputs": [
    {
     "name": "stdout",
     "output_type": "stream",
     "text": [
      "1 là số lẻ\n",
      "2 là số chẵn\n",
      "3 là số lẻ\n",
      "4 là số chẵn\n"
     ]
    }
   ],
   "source": [
    "# W1A4\n",
    "\n",
    "numbers = [1, 2, 3, 4]             # Tạo danh sách chứa các số 1, 2, 3, 4\n",
    "for x in numbers:                  # Lặp qua từng phần tử trong danh sách\n",
    "    if x % 2 == 0:                 # Nếu x chia hết cho 2 (tức là số chẵn)\n",
    "        print(x, \"là số chẵn\")     # In ra số chẵn\n",
    "    else:                          # Ngược lại (nếu không chia hết cho 2 → số lẻ)\n",
    "        print(x, \"là số lẻ\")       # In ra số lẻ"
   ]
  },
  {
   "cell_type": "code",
   "execution_count": 33,
   "id": "e3c9a9d7-8153-49df-8f72-a1f0f330d07a",
   "metadata": {},
   "outputs": [
    {
     "name": "stdout",
     "output_type": "stream",
     "text": [
      "Số phần tử trong danh sách là: 4\n"
     ]
    }
   ],
   "source": [
    "# W1A5\n",
    "\n",
    "animals = [\"cat\", \"dog\", \"cat\", \"bird\"]  # Tạo danh sách (list) chứa 4 phần tử: \"cat\", \"dog\", \"cat\", \"bird\"\n",
    "count = 0  # Khởi tạo biến đếm count = 0\n",
    "for a in animals:  # Duyệt qua từng phần tử trong danh sách animals\n",
    "    count += 1  # Mỗi lần lặp thì tăng biến count lên 1\n",
    "print(\"Số phần tử trong danh sách là:\", count)  # In ra tổng số phần tử trong danh sách"
   ]
  },
  {
   "cell_type": "code",
   "execution_count": 3,
   "id": "52dd8203-cb6d-4ee1-85a9-7762dbae3067",
   "metadata": {},
   "outputs": [
    {
     "data": {
      "text/plain": [
       "'\\n=== AI Prediction System ===\\n1) Sentiment analysis\\n2) Weather forecast\\n3) Exit\\nPlease choose an option: \\n\\nGiải thích:\\nChương trình chỉ đơn giản in ra một menu lựa chọn với tiêu đề “AI Prediction System” và 3 tùy chọn:\\nSentiment analysis (Phân tích cảm xúc)\\nWeather forecast (Dự báo thời tiết)\\nExit (Thoát chương trình)\\nSau đó, in thêm dòng “Please choose an option:” để nhắc người dùng nhập lựa chọn.\\n\\nĐoạn chương trình bạn đưa ra ở đây thực chất là giao diện menu (dạng text), thường dùng trong các chương trình tương tác với người dùng.\\n\\nVì trong chương trình gốc, người viết đã dùng nhiều lệnh print(...) để in từng dòng ra màn hình.\\nVí dụ, code tương ứng như sau:\\nprint(\"=== AI Prediction System ===\")   # In tiêu đề\\nprint(\"1) Sentiment analysis\")          # In tùy chọn 1\\nprint(\"2) Weather forecast\")            # In tùy chọn 2\\nprint(\"3) Exit\")                        # In tùy chọn 3\\nprint(\"Please choose an option:\")       # In lời nhắc nhập lựa chọn\\n'"
      ]
     },
     "execution_count": 3,
     "metadata": {},
     "output_type": "execute_result"
    }
   ],
   "source": [
    "# W1A6\n",
    "\n",
    "'''\n",
    "=== AI Prediction System ===\n",
    "1) Sentiment analysis\n",
    "2) Weather forecast\n",
    "3) Exit\n",
    "Please choose an option: \n",
    "\n",
    "Giải thích:\n",
    "Chương trình chỉ đơn giản in ra một menu lựa chọn với tiêu đề “AI Prediction System” và 3 tùy chọn:\n",
    "Sentiment analysis (Phân tích cảm xúc)\n",
    "Weather forecast (Dự báo thời tiết)\n",
    "Exit (Thoát chương trình)\n",
    "Sau đó, in thêm dòng “Please choose an option:” để nhắc người dùng nhập lựa chọn.\n",
    "\n",
    "Đoạn chương trình bạn đưa ra ở đây thực chất là giao diện menu (dạng text), thường dùng trong các chương trình tương tác với người dùng.\n",
    "\n",
    "Vì trong chương trình gốc, người viết đã dùng nhiều lệnh print(...) để in từng dòng ra màn hình.\n",
    "Ví dụ, code tương ứng như sau:\n",
    "print(\"=== AI Prediction System ===\")   # In tiêu đề\n",
    "print(\"1) Sentiment analysis\")          # In tùy chọn 1\n",
    "print(\"2) Weather forecast\")            # In tùy chọn 2\n",
    "print(\"3) Exit\")                        # In tùy chọn 3\n",
    "print(\"Please choose an option:\")       # In lời nhắc nhập lựa chọn\n",
    "'''"
   ]
  },
  {
   "cell_type": "code",
   "execution_count": 2,
   "id": "6b2b3474-b35a-48f2-8117-4da0a26befc5",
   "metadata": {},
   "outputs": [
    {
     "data": {
      "text/plain": [
       "'\\nnum = input(\"Nhập số: \")\\nif num % 2 = 0:\\nprint(\"Số chẵn\")\\nelse\\nprint(\"Số lẻ\")\\n\\nLỗi:\\ninput() trong Python luôn trả về chuỗi (string) → cần ép kiểu về số nguyên (int) trước khi tính toán.\\nTrong điều kiện if, bạn dùng toán tử gán = thay vì toán tử so sánh ==.\\nSai cú pháp ở else (thiếu dấu :).\\nLỗi thụt lề (indentation) trong các dòng print.\\n'"
      ]
     },
     "execution_count": 2,
     "metadata": {},
     "output_type": "execute_result"
    }
   ],
   "source": [
    "# W1A7\n",
    "\n",
    "'''\n",
    "num = input(\"Nhập số: \")\n",
    "if num % 2 = 0:\n",
    "print(\"Số chẵn\")\n",
    "else\n",
    "print(\"Số lẻ\")\n",
    "\n",
    "Lỗi:\n",
    "input() trong Python luôn trả về chuỗi (string) → cần ép kiểu về số nguyên (int) trước khi tính toán.\n",
    "Trong điều kiện if, bạn dùng toán tử gán = thay vì toán tử so sánh ==.\n",
    "Sai cú pháp ở else (thiếu dấu :).\n",
    "Lỗi thụt lề (indentation) trong các dòng print.\n",
    "'''"
   ]
  },
  {
   "cell_type": "code",
   "execution_count": 36,
   "id": "2e3aa6cf-d973-45e7-9cb2-5498b6f4559e",
   "metadata": {},
   "outputs": [
    {
     "name": "stdout",
     "output_type": "stream",
     "text": [
      "AI đang học lần 1\n",
      "AI đang học lần 2\n",
      "AI đang học lần 3\n",
      "Huấn luyện xong!\n"
     ]
    }
   ],
   "source": [
    "# W1A8\n",
    "\n",
    "for i in range(3):  # Vòng lặp chạy 3 lần, với i lần lượt = 0, 1, 2\n",
    "    print(\"AI đang học lần\", i + 1)  # In ra thông báo, cộng i + 1 để bắt đầu từ 1 thay vì 0\n",
    "print(\"Huấn luyện xong!\")  # Sau khi vòng lặp kết thúc, in ra thông báo kết thúc"
   ]
  },
  {
   "cell_type": "code",
   "execution_count": 43,
   "id": "1743da8b-6612-4e29-87f5-54e369946b1d",
   "metadata": {},
   "outputs": [
    {
     "name": "stdout",
     "output_type": "stream",
     "text": [
      "Dự đoán con vật: cat\n",
      "Dự đoán con vật: dog\n",
      "Dự đoán con vật: fish\n"
     ]
    }
   ],
   "source": [
    "# W1A9\n",
    "\n",
    "for x in [\"cat\", \"dog\", \"fish\"]:  # Vòng lặp for duyệt qua từng phần tử trong danh sách [\"cat\", \"dog\", \"fish\"]\n",
    "    print(\"Dự đoán con vật:\", x)  # In ra chuỗi kèm với giá trị hiện tại của biến x"
   ]
  },
  {
   "cell_type": "code",
   "execution_count": 42,
   "id": "2cda7b0a-2b53-45b4-88cb-80eb3851b604",
   "metadata": {},
   "outputs": [
    {
     "data": {
      "text/plain": [
       "'\\n# Simple menu\\nprint \"=== AI Prediction System ===\"\\nprint(\"1) Sentiment analysis\"\\nprint(\"2) Weather forecast\"))\\nprint(\\'3) Exit\\'\\nprint(\"Please choose an option:\")\\n\\nLỗi:\\nprint \"...\" là cú pháp của Python 2 → trong Python 3 phải dùng print(\"...\").\\nDư thừa một dấu ) ở dòng print(\"2) Weather forecast\")).\\nDòng print(\\'3) Exit\\' thiếu dấu đóng ).\\n'"
      ]
     },
     "execution_count": 42,
     "metadata": {},
     "output_type": "execute_result"
    }
   ],
   "source": [
    "# W1A10\n",
    "\n",
    "'''\n",
    "# Simple menu\n",
    "print \"=== AI Prediction System ===\"\n",
    "print(\"1) Sentiment analysis\"\n",
    "print(\"2) Weather forecast\"))\n",
    "print('3) Exit'\n",
    "print(\"Please choose an option:\")\n",
    "\n",
    "Lỗi:\n",
    "print \"...\" là cú pháp của Python 2 → trong Python 3 phải dùng print(\"...\").\n",
    "Dư thừa một dấu ) ở dòng print(\"2) Weather forecast\")).\n",
    "Dòng print('3) Exit' thiếu dấu đóng ).\n",
    "'''"
   ]
  },
  {
   "cell_type": "code",
   "execution_count": null,
   "id": "60179cdb-e914-4afc-9d76-a074306de485",
   "metadata": {},
   "outputs": [],
   "source": []
  }
 ],
 "metadata": {
  "kernelspec": {
   "display_name": "Python 3 (ipykernel)",
   "language": "python",
   "name": "python3"
  },
  "language_info": {
   "codemirror_mode": {
    "name": "ipython",
    "version": 3
   },
   "file_extension": ".py",
   "mimetype": "text/x-python",
   "name": "python",
   "nbconvert_exporter": "python",
   "pygments_lexer": "ipython3",
   "version": "3.13.7"
  }
 },
 "nbformat": 4,
 "nbformat_minor": 5
}
