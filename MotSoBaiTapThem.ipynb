{
 "cells": [
  {
   "cell_type": "code",
   "execution_count": null,
   "id": "fba0a12d-3031-4b08-80bc-91acd04d9521",
   "metadata": {},
   "outputs": [],
   "source": [
    "Vòng lặp"
   ]
  },
  {
   "cell_type": "code",
   "execution_count": 5,
   "id": "2645412b-f2e1-4de0-9c71-a127ee17a10f",
   "metadata": {},
   "outputs": [
    {
     "name": "stdin",
     "output_type": "stream",
     "text": [
      " 5\n"
     ]
    },
    {
     "name": "stdout",
     "output_type": "stream",
     "text": [
      "120\n"
     ]
    }
   ],
   "source": [
    "# Bài 13\n",
    "\n",
    "kq = 1\n",
    "n = int(input())\n",
    "for i in range(1,n+1):\n",
    "    kq *= i\n",
    "print(kq)"
   ]
  },
  {
   "cell_type": "code",
   "execution_count": 6,
   "id": "e87a5ba8-0e7e-4a5a-ad39-a251a9662a9b",
   "metadata": {},
   "outputs": [
    {
     "name": "stdin",
     "output_type": "stream",
     "text": [
      " 2.4 5\n"
     ]
    },
    {
     "name": "stdout",
     "output_type": "stream",
     "text": [
      "79.62624\n"
     ]
    }
   ],
   "source": [
    "# Bài 14\n",
    "\n",
    "kq = 1\n",
    "x, n = map(float, input().split())\n",
    "for i in range(int(n)):\n",
    "    kq *= x\n",
    "print(kq)"
   ]
  },
  {
   "cell_type": "code",
   "execution_count": 69,
   "id": "5a6512d7-4673-4e3b-9ff7-b70bfff7511e",
   "metadata": {},
   "outputs": [
    {
     "name": "stdin",
     "output_type": "stream",
     "text": [
      " 5\n"
     ]
    },
    {
     "name": "stdout",
     "output_type": "stream",
     "text": [
      "2.7166666666666663\n"
     ]
    }
   ],
   "source": [
    "# Bài 15\n",
    "\n",
    "n = int(input())\n",
    "kq = 1\n",
    "tmp = 1\n",
    "for i in range(1,n+1):\n",
    "    tmp*=i\n",
    "    kq += 1/tmp\n",
    "print(kq)"
   ]
  },
  {
   "cell_type": "code",
   "execution_count": 70,
   "id": "f61647e9-58e1-493e-8375-4eaae33a1fa9",
   "metadata": {},
   "outputs": [
    {
     "name": "stdin",
     "output_type": "stream",
     "text": [
      " 5 2\n"
     ]
    },
    {
     "name": "stdout",
     "output_type": "stream",
     "text": [
      "62\n"
     ]
    }
   ],
   "source": [
    "# Bài 16\n",
    "\n",
    "kq = 0\n",
    "n, x = map(int, input().split())\n",
    "for i in range(1,n+1):\n",
    "    kq += x**i\n",
    "print(kq)"
   ]
  },
  {
   "cell_type": "code",
   "execution_count": 71,
   "id": "12579ac7-fa15-43b1-a624-8b8dbe687b6e",
   "metadata": {},
   "outputs": [
    {
     "name": "stdin",
     "output_type": "stream",
     "text": [
      " 5 2\n"
     ]
    },
    {
     "name": "stdout",
     "output_type": "stream",
     "text": [
      "5.433333333333333\n"
     ]
    }
   ],
   "source": [
    "# Bài 17\n",
    "\n",
    "tmp = 1\n",
    "n, x = map(int, input().split())\n",
    "kq = x\n",
    "for i in range(1,n+1):\n",
    "    tmp*=i\n",
    "    kq += x/tmp\n",
    "print(kq)"
   ]
  },
  {
   "cell_type": "code",
   "execution_count": 15,
   "id": "948942b2-96ed-4bfe-82d6-5129a6adba19",
   "metadata": {},
   "outputs": [
    {
     "name": "stdout",
     "output_type": "stream",
     "text": [
      "153 370 371 407 "
     ]
    }
   ],
   "source": [
    "# Bài 18\n",
    "\n",
    "def check(n):\n",
    "    tmp = n\n",
    "    tmp1 = 0\n",
    "    while(n > 0):\n",
    "        tmp1 += (n%10)**3\n",
    "        n//=10\n",
    "    return tmp == tmp1\n",
    "for i in range(100, 1000):\n",
    "    if (check(i)): print(i, end = ' ')"
   ]
  },
  {
   "cell_type": "code",
   "execution_count": 16,
   "id": "d271a8ad-51d9-4b05-beb3-0fc4e3942e94",
   "metadata": {},
   "outputs": [
    {
     "name": "stdin",
     "output_type": "stream",
     "text": [
      " 5\n"
     ]
    },
    {
     "name": "stdout",
     "output_type": "stream",
     "text": [
      "La so nguyen to\n"
     ]
    }
   ],
   "source": [
    "# Bài 19\n",
    "\n",
    "def check(n):\n",
    "    for i in range(2, int(n**0.5)+1):\n",
    "        if (n%i == 0): return False\n",
    "    return n >= 2\n",
    "n = int(input())\n",
    "if (check(n)): print(\"La so nguyen to\")\n",
    "else: print(\"Khong la so nguyen to\")"
   ]
  },
  {
   "cell_type": "code",
   "execution_count": 17,
   "id": "a8b4757d-a1d2-43c2-95a8-987e2af5ed76",
   "metadata": {},
   "outputs": [
    {
     "name": "stdin",
     "output_type": "stream",
     "text": [
      " 100\n"
     ]
    },
    {
     "name": "stdout",
     "output_type": "stream",
     "text": [
      "2 3 5 7 11 13 17 19 23 29 31 37 41 43 47 53 59 61 67 71 73 79 83 89 97 "
     ]
    }
   ],
   "source": [
    "# Bài 20 \n",
    "\n",
    "#cách 1 - dùng cho N <= 5*10^5\n",
    "def check(n):\n",
    "    for i in range(2, int(n**0.5)+1):\n",
    "        if (n%i == 0): return False\n",
    "    return n >= 2\n",
    "n = int(input())\n",
    "for i in range(1,n+1):\n",
    "    if (check(i)): print(i, end = ' ')\n",
    "\n",
    "#cách 2 - dùng cho N <= 10^6 - 10^7\n",
    "# N = 1000001 # tùy theo độ lớn \n",
    "# nt = [1]*N\n",
    "# def sang():\n",
    "#     for i in range(2,int(N**0.5)+1):\n",
    "#         if (nt[i]):\n",
    "#             for j in range(i*i,N,i): nt[j] = 0\n",
    "#     nt[0] = nt[1] = 0\n",
    "# n = int(input())\n",
    "# for i in range(1,n+1):\n",
    "#     if (nt[i]): print(i, end = ' ')"
   ]
  },
  {
   "cell_type": "code",
   "execution_count": 25,
   "id": "57c5f72c-dc71-426d-b96f-92b1b28e78fa",
   "metadata": {},
   "outputs": [
    {
     "name": "stdin",
     "output_type": "stream",
     "text": [
      " 1 2 3\n",
      " 8\n"
     ]
    },
    {
     "name": "stdout",
     "output_type": "stream",
     "text": [
      "8 doi thanh 0 to 1 dong, 1 to 2 dong va 2 to 3 dong\n",
      "8 doi thanh 1 to 1 dong, 2 to 2 dong va 1 to 3 dong\n",
      "8 doi thanh 2 to 1 dong, 0 to 2 dong va 2 to 3 dong\n",
      "8 doi thanh 3 to 1 dong, 1 to 2 dong va 1 to 3 dong\n",
      "8 doi thanh 5 to 1 dong, 0 to 2 dong va 1 to 3 dong\n"
     ]
    }
   ],
   "source": [
    "# Bài 21\n",
    "\n",
    "tung = []\n",
    "tung = list(map(int, input().split()))\n",
    "T = int(input())\n",
    "tung = sorted(tung)\n",
    "for i in range(int(T/tung[0])+1):\n",
    "    for j in range(int(T/tung[1])+1):\n",
    "        if (T - tung[0]*i - tung[1]*j)%tung[2] == 0 and (T - tung[0]*i - tung[1]*j) > 0:\n",
    "            print(f\"{T} doi thanh {i} to {tung[0]} dong, {j} to {tung[1]} dong va {int((T - tung[0]*i - tung[1]*j)/tung[2])} to {tung[2]} dong\")\n",
    "    "
   ]
  },
  {
   "cell_type": "code",
   "execution_count": 27,
   "id": "67b4d91c-7263-4d1d-b562-88b76b7697a9",
   "metadata": {},
   "outputs": [
    {
     "name": "stdout",
     "output_type": "stream",
     "text": [
      "Co 4 trau dung, co 18 trau nam va 78 trau gia\n",
      "Co 8 trau dung, co 11 trau nam va 81 trau gia\n",
      "Co 12 trau dung, co 4 trau nam va 84 trau gia\n"
     ]
    }
   ],
   "source": [
    "# Bài 22\n",
    "\n",
    "# Có hệ phương trình\n",
    "# x + y + z = 100\n",
    "# 5x + 3y + 1/3z = 100\n",
    "# --> \n",
    "# x + y + z = 100\n",
    "# 2y + 14/3z = 400\n",
    "for z in range(101):\n",
    "    tmp = 400 - 14*z/3\n",
    "    if (tmp%2==0 and tmp > 0):\n",
    "        y = int(tmp/2)\n",
    "        x = 100 - z - y\n",
    "        if (x > 0):\n",
    "            print(f\"Co {x} trau dung, co {y} trau nam va {z} trau gia\")"
   ]
  },
  {
   "cell_type": "code",
   "execution_count": 39,
   "id": "957db304-afcb-43d8-8700-89ccb7a8439e",
   "metadata": {},
   "outputs": [
    {
     "name": "stdout",
     "output_type": "stream",
     "text": [
      "________________________________\n",
      "|0  1  2  3  4  5  6  7  8  9  |\n",
      "|10 11 12 13 14 15 16 17 18 19 |\n",
      "--------------------------------\n"
     ]
    }
   ],
   "source": [
    "# Bài 23\n",
    "\n",
    "#tung\n",
    "print(\"_\"*32)\n",
    "print(\"|\",end = '')\n",
    "for i in range(10): print(i, end = '  ')\n",
    "print(\"|\",end = '')\n",
    "print()\n",
    "print(\"|\",end = '')\n",
    "for i in range(10,20): print(i, end = ' ')\n",
    "print(\"|\",end = '')\n",
    "print()\n",
    "print(\"-\"*32)"
   ]
  },
  {
   "cell_type": "code",
   "execution_count": 40,
   "id": "c1711bd8-e6cd-401e-999d-0e7127263b66",
   "metadata": {},
   "outputs": [
    {
     "name": "stdin",
     "output_type": "stream",
     "text": [
      " 2 3\n"
     ]
    },
    {
     "name": "stdout",
     "output_type": "stream",
     "text": [
      "8\n"
     ]
    }
   ],
   "source": [
    "# Bài 26\n",
    "\n",
    "# Đệ quy\n",
    "def solve(a, n):\n",
    "    if (n == 0): return 1\n",
    "    return a*solve(a,n-1)\n",
    "a, n = map(int, input().split())\n",
    "print(solve(a,n))"
   ]
  },
  {
   "cell_type": "code",
   "execution_count": 42,
   "id": "ba43c214-745c-49d8-a483-a799f6caeedc",
   "metadata": {},
   "outputs": [
    {
     "name": "stdin",
     "output_type": "stream",
     "text": [
      " 5\n"
     ]
    },
    {
     "name": "stdout",
     "output_type": "stream",
     "text": [
      "120\n"
     ]
    }
   ],
   "source": [
    "# Bài 27\n",
    "\n",
    "def xuly(n):\n",
    "    kq = 1\n",
    "    for i in range(1,n+1):\n",
    "        kq*=i\n",
    "    return kq\n",
    "n = int(input())\n",
    "print(xuly(n))"
   ]
  },
  {
   "cell_type": "code",
   "execution_count": 45,
   "id": "674733c0-c010-44f2-90da-d92010bc9f50",
   "metadata": {},
   "outputs": [
    {
     "name": "stdin",
     "output_type": "stream",
     "text": [
      " 2 10\n"
     ]
    },
    {
     "name": "stdout",
     "output_type": "stream",
     "text": [
      "45\n"
     ]
    }
   ],
   "source": [
    "# Bài 28\n",
    "\n",
    "def xuly(n):\n",
    "    kq = 1\n",
    "    for i in range(1,n+1):\n",
    "        kq*=i\n",
    "    return kq\n",
    "k, n = map(int, input().split())\n",
    "print(int(xuly(n)/(xuly(k)*xuly(n-k))))"
   ]
  },
  {
   "cell_type": "code",
   "execution_count": 48,
   "id": "f819cd81-0b5e-4fae-98ea-5198abc4686b",
   "metadata": {},
   "outputs": [
    {
     "name": "stdin",
     "output_type": "stream",
     "text": [
      " 5\n"
     ]
    },
    {
     "name": "stdout",
     "output_type": "stream",
     "text": [
      "1\n",
      "1 2 1 \n",
      "1 3 3 1 \n",
      "1 4 6 4 1 \n",
      "1 5 10 10 5 1 \n"
     ]
    }
   ],
   "source": [
    "# Bài 29\n",
    "\n",
    "def xuly(n):\n",
    "    kq = 1\n",
    "    for i in range(1,n+1):\n",
    "        kq*=i\n",
    "    return kq\n",
    "def ckn(k,n):\n",
    "    return int(xuly(n)/(xuly(k)*xuly(n-k)))\n",
    "n = int(input())\n",
    "for i in range(1,n+1):\n",
    "    if (i == 1): print(1)\n",
    "    else:\n",
    "        for j in range(0,i+1):\n",
    "            print(ckn(j,i), end = ' ')\n",
    "        print()"
   ]
  },
  {
   "cell_type": "code",
   "execution_count": 51,
   "id": "e49b8751-73c4-42e2-a835-51cba7894a21",
   "metadata": {},
   "outputs": [
    {
     "name": "stdout",
     "output_type": "stream",
     "text": [
      "\n",
      "                ~~~tung~~~\n",
      "0.   Không làm gì hết và trở về màn hình soạn thảo.\n",
      "1.   Tính diện tích hình vuông\n",
      "2.   Tính diện tích hình tròn\n",
      "3.   Tính diện tích tam giác\n",
      "4.   Tính diện tích hình chữ nhật\n",
      "\n"
     ]
    },
    {
     "name": "stdin",
     "output_type": "stream",
     "text": [
      " 1\n",
      " 2.5\n"
     ]
    },
    {
     "name": "stdout",
     "output_type": "stream",
     "text": [
      "Dien tich hinh vuon la 6.25\n",
      "\n",
      "                ~~~tung~~~\n",
      "0.   Không làm gì hết và trở về màn hình soạn thảo.\n",
      "1.   Tính diện tích hình vuông\n",
      "2.   Tính diện tích hình tròn\n",
      "3.   Tính diện tích tam giác\n",
      "4.   Tính diện tích hình chữ nhật\n",
      "\n"
     ]
    },
    {
     "name": "stdin",
     "output_type": "stream",
     "text": [
      " 0\n"
     ]
    }
   ],
   "source": [
    "# Bài 30\n",
    "\n",
    "bannenr = '''\n",
    "                ~~~tung~~~\n",
    "0.   Không làm gì hết và trở về màn hình soạn thảo.\n",
    "1.   Tính diện tích hình vuông\n",
    "2.   Tính diện tích hình tròn\n",
    "3.   Tính diện tích tam giác\n",
    "4.   Tính diện tích hình chữ nhật\n",
    "'''\n",
    "def tinhhv():\n",
    "    n = float(input())\n",
    "    dt = n*n\n",
    "    print(f\"Dien tich hinh vuon la {dt:.2f}\")\n",
    "def tinhht():\n",
    "    r = float(input())\n",
    "    dt = r*r*3.14\n",
    "    print(f\"Dien tich hinh tron la {dt:.2f}\")\n",
    "def tinhtg():\n",
    "    a, b, c = map(float, input().split())\n",
    "    ncv = (a+b+c)/2\n",
    "    dt = (ncv*(ncv-a)*(ncv-b)*(ncv-c))**0.5\n",
    "    print(f\"Dien tich hinh tam giac la {dt:.2f}\")\n",
    "def tinhhcn():\n",
    "    a, b = map(float, input().split())\n",
    "    dt = a*b\n",
    "    print(f\"Dien tich hinh chu nhat la {dt:.2f}\")\n",
    "while True:\n",
    "    print(bannenr)\n",
    "    chon = int(input())\n",
    "    if (chon == 0): break\n",
    "    elif (chon == 1): tinhhv()\n",
    "    elif (chon == 2): tinhht()\n",
    "    elif (chon == 3): tinhtg()\n",
    "    elif (chon == 4): tinhhcn()\n"
   ]
  },
  {
   "cell_type": "code",
   "execution_count": 55,
   "id": "a46e727f-0525-4dc1-9ba2-167b35a7a138",
   "metadata": {},
   "outputs": [
    {
     "name": "stdin",
     "output_type": "stream",
     "text": [
      " 5\n"
     ]
    },
    {
     "name": "stdout",
     "output_type": "stream",
     "text": [
      "1 1 2 3 5 \n",
      "5 la so fibonacci\n"
     ]
    }
   ],
   "source": [
    "# Bài 31\n",
    "\n",
    "# Tính n số fibonacci đầu \n",
    "n = int(input())\n",
    "a = 1\n",
    "b = 1\n",
    "print(a,b, end = ' ')\n",
    "for i in range(3,n+1):\n",
    "    c = a + b\n",
    "    a = b\n",
    "    b = c\n",
    "    print(b, end = ' ')\n",
    "# Kiểm tra số fibonacci\n",
    "\n",
    "check = False\n",
    "a = 1\n",
    "b = 1\n",
    "if (n == 1): check = True\n",
    "else:\n",
    "    for i in range(3,n+1):\n",
    "        c = a + b\n",
    "        a = b\n",
    "        b = c\n",
    "        if (n == b): check = True\n",
    "print()\n",
    "if (check): print(f\"{n} la so fibonacci\")\n",
    "else: print(f\"{n} khong la so fibonacci\")"
   ]
  },
  {
   "cell_type": "code",
   "execution_count": 56,
   "id": "82db238c-64ce-4aa4-96bf-c93a19e39150",
   "metadata": {},
   "outputs": [
    {
     "name": "stdin",
     "output_type": "stream",
     "text": [
      " 1234\n"
     ]
    },
    {
     "name": "stdout",
     "output_type": "stream",
     "text": [
      "4321\n"
     ]
    }
   ],
   "source": [
    "# Bài 32\n",
    "\n",
    "def solve(n):\n",
    "    res = 0\n",
    "    while(n > 0):\n",
    "        res = res*10 + n%10\n",
    "        n//=10\n",
    "    return res\n",
    "n = int(input())\n",
    "print(solve(n))"
   ]
  },
  {
   "cell_type": "code",
   "execution_count": null,
   "id": "229da9c6-f802-4384-aa1d-8199c9e0776d",
   "metadata": {},
   "outputs": [],
   "source": [
    "# Bài tập thêm"
   ]
  },
  {
   "cell_type": "code",
   "execution_count": 60,
   "id": "9e1c21b9-710b-48a1-8970-3057a314898b",
   "metadata": {},
   "outputs": [
    {
     "name": "stdin",
     "output_type": "stream",
     "text": [
      " 5\n",
      "  12 13 22 40 31 33\n",
      " 4\n"
     ]
    },
    {
     "name": "stdout",
     "output_type": "stream",
     "text": [
      "co 4 so co tong cac chu so bang 4\n",
      "cac so do la\n",
      "13 22 40 31 \n",
      "tong cua chung la 106\n"
     ]
    }
   ],
   "source": [
    "# Bài 1\n",
    "\n",
    "def xuly(n):\n",
    "    res = 0\n",
    "    while(n > 0):\n",
    "        res += n%10\n",
    "        n//=10\n",
    "    return res\n",
    "## Nhập dãy \n",
    "dem, tong = 0, 0\n",
    "a = []\n",
    "b = []\n",
    "n = int(input())\n",
    "a = list(map(int,input().split()))\n",
    "k = int(input())\n",
    "for i in a:\n",
    "    if (xuly(i) == k):\n",
    "        dem += 1\n",
    "        tong += i\n",
    "        b.append(i)\n",
    "print(f\"co {dem} so co tong cac chu so bang {k}\")\n",
    "print(f\"cac so do la\")\n",
    "for i in b: print(i, end = ' ')\n",
    "print()\n",
    "print(f\"tong cua chung la {tong}\")"
   ]
  },
  {
   "cell_type": "code",
   "execution_count": 66,
   "id": "91c84fbd-891f-48a9-8310-3bab0b2b411b",
   "metadata": {},
   "outputs": [
    {
     "name": "stdin",
     "output_type": "stream",
     "text": [
      " 2/2\n"
     ]
    },
    {
     "name": "stdout",
     "output_type": "stream",
     "text": [
      "Ngay hop le\n",
      "2/2 là ngày thứ 33 của năm đó\n"
     ]
    }
   ],
   "source": [
    "# Bài 2\n",
    "\n",
    "def tinh(n, t):\n",
    "    ## CÁCH 1 - CỔ ĐIỂN\n",
    "    # if t>1: ngay+=31\n",
    "    # if t>2: ngay+=29\n",
    "    # if t>3: ngay+=31\n",
    "    # if t>4: ngay+=30\n",
    "    # if t>5: ngay+=31\n",
    "    # if t>6: ngay+=30\n",
    "    # if t>7: ngay+=31\n",
    "    # if t>8: ngay+=31\n",
    "    # if t>9: ngay+=30\n",
    "    # if t>10: ngay+=31\n",
    "    # if t>11: ngay+=30\n",
    "    # print(f\"{n}/{t} là ngày thứ {ngay+n} của năm đó\")\n",
    "    ## CÁCH 2 - NÂNG CAO\n",
    "    tung = [31,29,31,30,31,30,31,31,30,31,30,31]\n",
    "    pref = [0]*14\n",
    "    for i in range(1,13):\n",
    "        pref[i] = pref[i-1] + tung[i-1]\n",
    "    print(f\"{n}/{t} là ngày thứ {pref[t-1]+n} của năm đó\")\n",
    "ngay = 0\n",
    "n, t = map(int, input().split('/'))\n",
    "Max = -1\n",
    "match t:\n",
    "    case (4|6|9|11): Max = 30\n",
    "    case (1|3|5|7|8|10|12): Max = 31\n",
    "    case 2: Max = 29\n",
    "if (n <= Max and n > 0):\n",
    "    print(\"Ngay hop le\")\n",
    "    tinh(n,t)\n",
    "else: print(\"Ngay khong hop le\")"
   ]
  },
  {
   "cell_type": "code",
   "execution_count": null,
   "id": "f122c1ce-8366-4149-ae93-3ba3e5c252d1",
   "metadata": {},
   "outputs": [],
   "source": [
    "Hàm – ma trận hai chiều "
   ]
  },
  {
   "cell_type": "code",
   "execution_count": 72,
   "id": "de0f4588-c62a-4d1e-a4b3-ab35d96632d3",
   "metadata": {},
   "outputs": [
    {
     "name": "stdin",
     "output_type": "stream",
     "text": [
      " 5\n"
     ]
    },
    {
     "name": "stdout",
     "output_type": "stream",
     "text": [
      "2.7166666666666663\n"
     ]
    }
   ],
   "source": [
    "# Bài 33\n",
    "\n",
    "kq = 0\n",
    "def tinh(n):\n",
    "    kq = 1\n",
    "    for i in range(1,n+1):\n",
    "        kq *= i\n",
    "    return 1/kq\n",
    "n = int(input())\n",
    "for i in range(0, n+1):\n",
    "    kq += tinh(i)\n",
    "print(kq)"
   ]
  },
  {
   "cell_type": "code",
   "execution_count": 73,
   "id": "040c61d0-d822-4d1f-9bb1-3277ba019cb7",
   "metadata": {},
   "outputs": [
    {
     "name": "stdin",
     "output_type": "stream",
     "text": [
      " 5 2\n"
     ]
    },
    {
     "name": "stdout",
     "output_type": "stream",
     "text": [
      "62\n"
     ]
    }
   ],
   "source": [
    "# Bài 34\n",
    "\n",
    "def tinh(x, i):\n",
    "    return x**i\n",
    "kq = 0\n",
    "n, x = map(int, input().split())\n",
    "for i in range(1,n+1):\n",
    "    kq += tinh(x,i)\n",
    "print(kq)"
   ]
  },
  {
   "cell_type": "code",
   "execution_count": 74,
   "id": "8514ff8f-536a-4665-acc3-b7e7e83844ca",
   "metadata": {},
   "outputs": [
    {
     "name": "stdin",
     "output_type": "stream",
     "text": [
      " 5 2\n"
     ]
    },
    {
     "name": "stdout",
     "output_type": "stream",
     "text": [
      "4.895833333333333\n"
     ]
    }
   ],
   "source": [
    "# Bài 35\n",
    "\n",
    "kq = 0\n",
    "def xuly(n):\n",
    "    kq = 1\n",
    "    for i in range(1,n+1):\n",
    "        kq*=i\n",
    "    return kq\n",
    "def tinh(x,i):\n",
    "    return (1 + x**i)/xuly(1+i)\n",
    "n, x = map(int, input().split())\n",
    "for i in range(0,n+1):\n",
    "    kq += tinh(x,i)\n",
    "print(kq)"
   ]
  },
  {
   "cell_type": "code",
   "execution_count": 75,
   "id": "49916af4-410a-4113-95d1-cd471d94b485",
   "metadata": {},
   "outputs": [
    {
     "name": "stdin",
     "output_type": "stream",
     "text": [
      "Nhap cac tham so a, b, m, c, d, n theo dung thu tu 1 2 3 4 5 6\n"
     ]
    },
    {
     "name": "stdout",
     "output_type": "stream",
     "text": [
      "He phuong trinh co mot nghiem duy nhat x la -1 y la 2\n"
     ]
    }
   ],
   "source": [
    "# Bài 36\n",
    "\n",
    "a, b, m, c, d, n = map(float, input(\"Nhap cac tham so a, b, m, c, d, n theo dung thu tu\").split())\n",
    "# cách 1 - dùng crammer\n",
    "deta = a*d - b*c\n",
    "if (deta == 0): \n",
    "    if (m == 0 and n == 0):\n",
    "        print(\"He phuong trinh co vo so nghiem\")\n",
    "    else: print(\"He phuong trinh vo nghiem\")\n",
    "elif (deta != 0):\n",
    "    det2 = a*n - m*c\n",
    "    det1 = m*d - n*b\n",
    "    x = det1/deta\n",
    "    y = det2/deta\n",
    "    print(f\"He phuong trinh co mot nghiem duy nhat x la {int(x) if x.is_integer() else x} y la {int(y) if y.is_integer() else y}\")\n",
    "\n",
    "# cách 2 - dùng hệ số\n",
    "# def solve(a,b,m,c,d,n):\n",
    "#     if d == 0:\n",
    "#         x = n/d\n",
    "#         if b == 0:\n",
    "#             x1 = m/a\n",
    "#             if (isclose(x,x1)): print(\"He co vo so nghiem\")\n",
    "#             else: print(\"He vo nghiem\")\n",
    "#         else:\n",
    "#             y = (m - a*x)/b\n",
    "#         y = (m - a*x)/b\n",
    "#         print(f\"He phuong trinh co mot nghiem duy nhat x la {int(x) if x.is_integer() else x} y la {int(y) if y.is_integer() else y}\")\n",
    "#     else:\n",
    "#         if (isclose(a/c, b/d)):\n",
    "#             if (m == n == 0 or isclose(a/c, m/n)): print(\"He vo so nghiem\")\n",
    "#             else: print(\"He vo nghiem\")\n",
    "#         else:\n",
    "#             y = (m-n*a/c)/(b - a*d/c)\n",
    "#             x = (m - b*y)/a\n",
    "#             print(f\"He phuong trinh co mot nghiem duy nhat x la {int(x) if x.is_integer() else x} y la {int(y) if y.is_integer() else y}\")\n",
    "            \n",
    "# if (c == 0): solve(c,d,n,a,b,m)\n",
    "# else: solve(a,b,m,c,d,n)"
   ]
  },
  {
   "cell_type": "code",
   "execution_count": 88,
   "id": "665081c6-c10a-40d8-ae68-f77837e00907",
   "metadata": {},
   "outputs": [
    {
     "name": "stdin",
     "output_type": "stream",
     "text": [
      " 3\n",
      " 1 2 3\n",
      " 1 2 3\n",
      " 1 2 3\n"
     ]
    },
    {
     "name": "stdout",
     "output_type": "stream",
     "text": [
      "Cau a: \n",
      "6\n",
      "Cau b: \n",
      "14\n",
      "Cau c: \n",
      "8.292528739883945\n",
      "Cau d: \n",
      "9\n"
     ]
    }
   ],
   "source": [
    "# Bài 37\n",
    "\n",
    "n = int(input())\n",
    "a = [[] for _ in range(n+1)]*(n+1)\n",
    "for i in range(n):\n",
    "    a[i] = list(map(int,input().split()))\n",
    "print(\"Cau a: \")\n",
    "tong = 0\n",
    "for i in range(n):\n",
    "    tong += a[i][i]\n",
    "print(tong)\n",
    "print(\"Cau b: \")\n",
    "tong = 0\n",
    "for i in range(n):\n",
    "    if (i%2):\n",
    "        for j in a[i]:\n",
    "            tong += j*j\n",
    "print(tong)\n",
    "print(\"Cau c: \")\n",
    "tong = 0\n",
    "for i in range(n):\n",
    "    if (i%2 == 0):\n",
    "        for j in a[i]:\n",
    "            if j > =0: tong += j**0.5\n",
    "print(tong)\n",
    "print(\"Cau d: \")\n",
    "tong = 0\n",
    "for i in range(n):\n",
    "    for j in a[i]:\n",
    "        if (1<=j<=5): tong+=1\n",
    "print(tong)"
   ]
  },
  {
   "cell_type": "code",
   "execution_count": 89,
   "id": "58beb548-c18f-4d14-b3cd-710cc0d8314b",
   "metadata": {},
   "outputs": [
    {
     "name": "stdin",
     "output_type": "stream",
     "text": [
      " 2 3\n",
      " 1 2 3\n",
      " 1 2 3\n"
     ]
    },
    {
     "name": "stdout",
     "output_type": "stream",
     "text": [
      "8.292528739883945\n"
     ]
    }
   ],
   "source": [
    "# Bài 38\n",
    "\n",
    "tong = 0\n",
    "n,m = map(int, input().split())\n",
    "a = [[]for _ in range(m+1)]*(n+1)\n",
    "for i in range(n):\n",
    "    a[i] = list(map(int, input().split()))\n",
    "for i in range(n):\n",
    "    for j in a[i]:\n",
    "        if (j >= 0): tong+= j**0.5\n",
    "print(tong)"
   ]
  },
  {
   "cell_type": "code",
   "execution_count": 90,
   "id": "9da40df0-1d6c-44f1-af21-fec868f58b79",
   "metadata": {},
   "outputs": [
    {
     "name": "stdin",
     "output_type": "stream",
     "text": [
      " 2 3\n",
      " 1 2 3\n",
      " 4 5 6\n"
     ]
    },
    {
     "name": "stdout",
     "output_type": "stream",
     "text": [
      "1 4 \n",
      "2 5 \n",
      "3 6 \n"
     ]
    }
   ],
   "source": [
    "# Bài 39\n",
    "\n",
    "n,m = map(int, input().split())\n",
    "a = [[]for _ in range(m+1)]*(n+1)\n",
    "for i in range(n):\n",
    "    a[i] = list(map(int, input().split()))\n",
    "for j in range(m):\n",
    "    for i in range(n):\n",
    "        print(a[i][j], end = ' ')\n",
    "    print()"
   ]
  },
  {
   "cell_type": "code",
   "execution_count": 91,
   "id": "df9b365b-0f27-47a3-af46-01866f141174",
   "metadata": {},
   "outputs": [
    {
     "name": "stdin",
     "output_type": "stream",
     "text": [
      " 3\n",
      " 1 2 3 \n",
      " 4 5 6\n",
      " 7 8 9\n"
     ]
    },
    {
     "name": "stdout",
     "output_type": "stream",
     "text": [
      "1 4 7 \n",
      "2 5 8 \n",
      "3 6 9 \n"
     ]
    }
   ],
   "source": [
    "# Bài 40\n",
    "\n",
    "n = int(input())\n",
    "a = [[] for _ in range(n+1)]*(n+1)\n",
    "for i in range(n):\n",
    "    a[i] = list(map(int,input().split()))\n",
    "for i in range(n):\n",
    "    for j in range(n):\n",
    "        a[i][j], a[j][i] = a[j][i], a[i][j]\n",
    "for j in range(n):\n",
    "    for i in range(n):\n",
    "        print(a[i][j], end = ' ')\n",
    "    print()"
   ]
  },
  {
   "cell_type": "code",
   "execution_count": 92,
   "id": "5cf01b32-df2b-405e-867a-8c54752d3fe8",
   "metadata": {},
   "outputs": [
    {
     "name": "stdin",
     "output_type": "stream",
     "text": [
      " 6\n",
      " 1 2 3 4 5 6\n"
     ]
    },
    {
     "name": "stdout",
     "output_type": "stream",
     "text": [
      "1 6 3.5\n"
     ]
    }
   ],
   "source": [
    "# Bài 41\n",
    "\n",
    "import sys\n",
    "mn = sys.maxsize\n",
    "mx = -mn\n",
    "avg = 0\n",
    "n = int(input())\n",
    "a = []*(n+1)\n",
    "a = list(map(int,input().split()))\n",
    "for i in a:\n",
    "    mn = min(mn,i)\n",
    "    mx = max(mx,i)\n",
    "    avg += i/n\n",
    "print(mn, mx, avg)"
   ]
  },
  {
   "cell_type": "code",
   "execution_count": 96,
   "id": "99a320a9-b409-449b-abaa-7edcfd02fe3b",
   "metadata": {},
   "outputs": [
    {
     "name": "stdin",
     "output_type": "stream",
     "text": [
      " 6\n",
      "  1 5 4 2 3 1 \n"
     ]
    },
    {
     "name": "stdout",
     "output_type": "stream",
     "text": [
      "1 5 3 1 4 2 \n",
      "1 1 3 5 4 2 "
     ]
    }
   ],
   "source": [
    "# Bài 42\n",
    "\n",
    "n = int(input())\n",
    "a = []*(n+1)\n",
    "a = list(map(int, input().split()))\n",
    "le = []\n",
    "chan = []\n",
    "for i in a:\n",
    "    if (i%2): le.append(i)\n",
    "    else: chan.append(i)\n",
    "for i in le: print(i, end = ' ')\n",
    "for i in chan: print(i, end = ' ')                   \n",
    "le = sorted(le)\n",
    "chan = sorted(chan, reverse = True)\n",
    "print()\n",
    "for i in le: print(i, end =' ')\n",
    "for i in chan: print(i, end = ' ')   "
   ]
  },
  {
   "cell_type": "code",
   "execution_count": 103,
   "id": "77b59113-a49a-4889-9ea0-d1b910341184",
   "metadata": {},
   "outputs": [
    {
     "name": "stdin",
     "output_type": "stream",
     "text": [
      " 8\n"
     ]
    },
    {
     "name": "stdout",
     "output_type": "stream",
     "text": [
      "1000"
     ]
    }
   ],
   "source": [
    "# Bài 43\n",
    "\n",
    "n = int(input())\n",
    "a = []\n",
    "while(n > 0):\n",
    "    a.append(n%2)\n",
    "    n//=2\n",
    "for i in range(len(a)):\n",
    "    print(a[len(a) - i - 1], end = '')"
   ]
  },
  {
   "cell_type": "code",
   "execution_count": 104,
   "id": "f5a6d2bf-99bb-4100-9254-6e93147909d5",
   "metadata": {},
   "outputs": [
    {
     "name": "stdin",
     "output_type": "stream",
     "text": [
      " 10\n"
     ]
    },
    {
     "name": "stdout",
     "output_type": "stream",
     "text": [
      "12"
     ]
    }
   ],
   "source": [
    "# Bài 44\n",
    "\n",
    "n = int(input())\n",
    "a = []\n",
    "while(n > 0):\n",
    "    a.append(n%8)\n",
    "    n//=8\n",
    "for i in range(len(a)):\n",
    "    print(a[len(a) - i - 1], end = '')"
   ]
  },
  {
   "cell_type": "code",
   "execution_count": null,
   "id": "d6f572cf-de8c-4a13-93ab-6a397ab6da13",
   "metadata": {},
   "outputs": [],
   "source": [
    "Chuỗi kí tự"
   ]
  },
  {
   "cell_type": "code",
   "execution_count": 106,
   "id": "6fd366e0-fba8-4606-898b-43de5b93cf0f",
   "metadata": {},
   "outputs": [
    {
     "name": "stdin",
     "output_type": "stream",
     "text": [
      " tungvippro\n"
     ]
    },
    {
     "name": "stdout",
     "output_type": "stream",
     "text": [
      "Chu cai g lap lai 1 lan\n",
      "Chu cai i lap lai 1 lan\n",
      "Chu cai n lap lai 1 lan\n",
      "Chu cai o lap lai 1 lan\n",
      "Chu cai p lap lai 2 lan\n",
      "Chu cai r lap lai 1 lan\n",
      "Chu cai t lap lai 1 lan\n",
      "Chu cai u lap lai 1 lan\n",
      "Chu cai v lap lai 1 lan\n"
     ]
    }
   ],
   "source": [
    "# Bài 45\n",
    "\n",
    "a = [0]*200\n",
    "tung = input()\n",
    "for i in tung:\n",
    "    a[ord(i)]+=1\n",
    "for i in range(200):\n",
    "    if (a[i] > 0):\n",
    "        print(f\"Chu cai {chr(i)} lap lai {a[i]} lan\")"
   ]
  },
  {
   "cell_type": "code",
   "execution_count": 119,
   "id": "22f33337-4b70-4395-8c82-dd708ddea8bc",
   "metadata": {},
   "outputs": [
    {
     "name": "stdin",
     "output_type": "stream",
     "text": [
      " abcd\n"
     ]
    },
    {
     "name": "stdout",
     "output_type": "stream",
     "text": [
      "No khong la day doi xung\n",
      "No khong la day doi xung\n"
     ]
    }
   ],
   "source": [
    "# Bài 46\n",
    "\n",
    "def check(tung):\n",
    "    for i in range(len(tung)):\n",
    "        if (tung[i] != tung[len(tung)-1-i]): return False\n",
    "    return True\n",
    "tung = input()\n",
    "if (check(tung)): print(\"No la day doi xung\")\n",
    "else: print(\"No khong la day doi xung\")\n",
    "\n",
    "## Cách 2 - Hashing\n",
    "n = len(tung)\n",
    "base = 53\n",
    "MOD = 1000000007\n",
    "pw = [0]*(n+1)\n",
    "pw[0] = 1\n",
    "h1 = [0]*(n+1)\n",
    "h2 = [0]*(n+1)\n",
    "for i in range(n):\n",
    "    pw[i] = (pw[i-1]*base)%MOD\n",
    "    h1[i] = (h1[i-1]*base + (ord(tung[i]) - 65))%MOD\n",
    "    h2[n-i-1] = (h2[n-i]*base + (ord(tung[n-i-1]) - 65))%MOD\n",
    "if (h2[0] == h1[n-1]): print(\"No la day doi xung\")\n",
    "else: print(\"No khong la day doi xung\")"
   ]
  },
  {
   "cell_type": "code",
   "execution_count": 121,
   "id": "432b4af4-a5f2-4dd5-a5e5-0568d1771d22",
   "metadata": {},
   "outputs": [
    {
     "name": "stdin",
     "output_type": "stream",
     "text": [
      " Lê Thanh Tùng\n"
     ]
    },
    {
     "name": "stdout",
     "output_type": "stream",
     "text": [
      "Tùng\n"
     ]
    }
   ],
   "source": [
    "# Bài 47\n",
    "\n",
    "ten = list(map(str, input().split()))\n",
    "print(ten[len(ten)-1])"
   ]
  },
  {
   "cell_type": "code",
   "execution_count": null,
   "id": "86fa56af-eadc-4352-b598-13fb0cc11adc",
   "metadata": {},
   "outputs": [],
   "source": [
    "More"
   ]
  },
  {
   "cell_type": "code",
   "execution_count": 133,
   "id": "f0f638bf-67df-4538-bc86-1ffa461a7f0b",
   "metadata": {},
   "outputs": [
    {
     "name": "stdin",
     "output_type": "stream",
     "text": [
      " 3\n",
      " lê thanh tùng\n",
      " LÊ THANH TÙNG\n",
      " nguyễn quang minh\n"
     ]
    },
    {
     "name": "stdout",
     "output_type": "stream",
     "text": [
      "Tùng\n"
     ]
    }
   ],
   "source": [
    "# Bài 47\n",
    "\n",
    "#1.\n",
    "def chuan(ten):\n",
    "    new = ten[0].upper() + ten[1:]\n",
    "    return new\n",
    "n = int(input())\n",
    "a = {}\n",
    "for i in range(n):\n",
    "    tmp = list(map(str, input().split()))\n",
    "    ten = tmp[len(tmp)-1].lower()\n",
    "    if (ten in a): a[ten]+=1\n",
    "    else: a[ten] = 1\n",
    "## Cách nâng cao\n",
    "a = sorted(a.items(), key = lambda x : x[1], reverse= True)\n",
    "## cách cơ bản - duyệt tìm max\n",
    "print(chuan(a[0][0]))"
   ]
  },
  {
   "cell_type": "code",
   "execution_count": 135,
   "id": "3478991f-a75c-4374-b773-a195919cbdac",
   "metadata": {},
   "outputs": [
    {
     "name": "stdin",
     "output_type": "stream",
     "text": [
      "  tùng Tùng minh Khánh \n"
     ]
    },
    {
     "name": "stdout",
     "output_type": "stream",
     "text": [
      "2\n"
     ]
    }
   ],
   "source": [
    "# Bài 47\n",
    "\n",
    "#2.\n",
    "dem = 0\n",
    "def check(ten):\n",
    "    if (ten[0].isupper() and len(ten)>=2): return True\n",
    "    else: return False\n",
    "chuoi = list(map(str, input().split()))\n",
    "for i in chuoi:\n",
    "    if (check(i)): dem+=1\n",
    "print(dem)"
   ]
  },
  {
   "cell_type": "code",
   "execution_count": 145,
   "id": "b517d35a-99ed-4060-8726-4e951f6b29a1",
   "metadata": {},
   "outputs": [
    {
     "name": "stdin",
     "output_type": "stream",
     "text": [
      " Toi toi thich. Da da cau cau, on\n"
     ]
    },
    {
     "name": "stdout",
     "output_type": "stream",
     "text": [
      "Toi thich. Da cau on "
     ]
    }
   ],
   "source": [
    "# Bài 47\n",
    "\n",
    "#3.\n",
    "res = []\n",
    "def xuly(tmp, i):\n",
    "    if (tmp[0].isupper()):\n",
    "        tmp1 = tmp[0].lower() + tmp[1:]\n",
    "        if (tmp1 == i): return \n",
    "    if (i[len(i)-1].isalpha()):\n",
    "        if (tmp != i): res.append(i)\n",
    "    else:\n",
    "        if (tmp != i[0:(len(i)-1)]):\n",
    "            res.append(i)\n",
    "chuoi = list(map(str, input().split()))\n",
    "tmp = \" \"\n",
    "for i in chuoi:\n",
    "    xuly(tmp,i)\n",
    "    tmp = i\n",
    "for i in res:\n",
    "    print(i, end = ' ')"
   ]
  },
  {
   "cell_type": "code",
   "execution_count": 147,
   "id": "5ef65505-7d2d-41b4-9be2-19c26f4241ec",
   "metadata": {},
   "outputs": [
    {
     "name": "stdin",
     "output_type": "stream",
     "text": [
      " toi la tung\n"
     ]
    },
    {
     "name": "stdout",
     "output_type": "stream",
     "text": [
      "tung la toi "
     ]
    }
   ],
   "source": [
    "# Bài 47\n",
    "\n",
    "#5.\n",
    "chuoi = list(map(str, input().split()))\n",
    "for i in range(len(chuoi)):\n",
    "    print(chuoi[len(chuoi)-1-i], end = ' ')"
   ]
  },
  {
   "cell_type": "code",
   "execution_count": 149,
   "id": "d1c85cfb-2535-40c6-b871-1b9a576a7945",
   "metadata": {},
   "outputs": [
    {
     "name": "stdin",
     "output_type": "stream",
     "text": [
      " toi la tung\n"
     ]
    },
    {
     "name": "stdout",
     "output_type": "stream",
     "text": [
      "gnut al iot"
     ]
    }
   ],
   "source": [
    "# Bài 47\n",
    "\n",
    "#4.\n",
    "chuoi = input()\n",
    "for i in range(len(chuoi)):\n",
    "    print(chuoi[len(chuoi)-1-i], end = '')"
   ]
  },
  {
   "cell_type": "code",
   "execution_count": 1,
   "id": "e449cf1e-87a8-4a90-94b1-5db1148157f9",
   "metadata": {},
   "outputs": [
    {
     "name": "stdin",
     "output_type": "stream",
     "text": [
      " le thanh tung\n"
     ]
    },
    {
     "name": "stdout",
     "output_type": "stream",
     "text": [
      "lE\n",
      "thanH\n",
      "tunG\n"
     ]
    }
   ],
   "source": [
    "# Bài 48\n",
    "\n",
    "xau = map(str,input().split())\n",
    "for chuoi in xau:\n",
    "    kq = chuoi[0].lower() + chuoi[1:(len(chuoi)-1)] + chuoi[len(chuoi)-1].upper()\n",
    "    print(kq)"
   ]
  },
  {
   "cell_type": "code",
   "execution_count": 9,
   "id": "e82a8e4d-1890-41ae-91ca-82ac91d6a3ba",
   "metadata": {},
   "outputs": [
    {
     "name": "stdout",
     "output_type": "stream",
     "text": [
      "Nhap so phuc 1: format a + bi\n"
     ]
    },
    {
     "name": "stdin",
     "output_type": "stream",
     "text": [
      " 1 2\n"
     ]
    },
    {
     "name": "stdout",
     "output_type": "stream",
     "text": [
      "Nhap so phuc 2: format a + bi\n"
     ]
    },
    {
     "name": "stdin",
     "output_type": "stream",
     "text": [
      " 1 2\n"
     ]
    },
    {
     "name": "stdout",
     "output_type": "stream",
     "text": [
      "Phan thuc 2 phan ao 4\n"
     ]
    }
   ],
   "source": [
    "# Bài 49\n",
    "\n",
    "# 1.\n",
    "class phuc:\n",
    "    def __init__(self, a = 0, b = 0):\n",
    "        self.a = a\n",
    "        self.b = b\n",
    "    def nhap(self):\n",
    "        a, b = map(float, input().split())\n",
    "        self.a = a\n",
    "        self.b = b\n",
    "    def inf(self):\n",
    "        print(f\"Phan thuc {self.a} phan ao {self.b}\")\n",
    "    def cong(self, other):\n",
    "        res = phuc()\n",
    "        res.a = self.a + other.a\n",
    "        res.b = self.b + other.b\n",
    "        return res\n",
    "print(f\"Nhap so phuc 1: format a + bi\")\n",
    "a = phuc()\n",
    "a.nhap()\n",
    "print(f\"Nhap so phuc 2: format a + bi\")\n",
    "b = phuc()\n",
    "b.nhap()\n",
    "c = a.cong(b)\n",
    "c.inf()"
   ]
  },
  {
   "cell_type": "code",
   "execution_count": 11,
   "id": "faa0e4b4-57d4-4a45-891c-a163b280154d",
   "metadata": {},
   "outputs": [
    {
     "name": "stdout",
     "output_type": "stream",
     "text": [
      "Nhap so phuc 1: format a + bi\n"
     ]
    },
    {
     "name": "stdin",
     "output_type": "stream",
     "text": [
      " 1 2\n"
     ]
    },
    {
     "name": "stdout",
     "output_type": "stream",
     "text": [
      "Nhap so phuc 2: format a + bi\n"
     ]
    },
    {
     "name": "stdin",
     "output_type": "stream",
     "text": [
      " 3 4\n"
     ]
    },
    {
     "name": "stdout",
     "output_type": "stream",
     "text": [
      "Phan thuc -5.0 phan ao 10.0\n"
     ]
    }
   ],
   "source": [
    "# Bài 49\n",
    "\n",
    "# 2.\n",
    "class phuc:\n",
    "    def __init__(self, a = 0, b = 0):\n",
    "        self.a = a\n",
    "        self.b = b\n",
    "    def nhap(self):\n",
    "        a, b = map(float, input().split())\n",
    "        self.a = a\n",
    "        self.b = b\n",
    "    def inf(self):\n",
    "        print(f\"Phan thuc {self.a} phan ao {self.b}\")\n",
    "    def nhan(self, other):\n",
    "        res = phuc()\n",
    "        res.a = self.a*other.a - self.b*other.b\n",
    "        res.b = self.b*other.a + self.a*other.b\n",
    "        return res\n",
    "print(f\"Nhap so phuc 1: format a + bi\")\n",
    "a = phuc()\n",
    "a.nhap()\n",
    "print(f\"Nhap so phuc 2: format a + bi\")\n",
    "b = phuc()\n",
    "b.nhap()\n",
    "c = a.nhan(b)\n",
    "c.inf()"
   ]
  },
  {
   "cell_type": "code",
   "execution_count": 13,
   "id": "417bb4a7-e0eb-4a16-a364-60fafaab0925",
   "metadata": {},
   "outputs": [
    {
     "name": "stdin",
     "output_type": "stream",
     "text": [
      " 1 2 3\n",
      " 2 3\n"
     ]
    },
    {
     "name": "stdout",
     "output_type": "stream",
     "text": [
      "1.0 4.0 6.0 "
     ]
    }
   ],
   "source": [
    "# Bài 50 \n",
    "\n",
    "#1.\n",
    "a = list(map(float, input().split()))\n",
    "b = list(map(float, input().split()))\n",
    "res = []\n",
    "if (len(a) < len(b)):\n",
    "    a, b = b, a\n",
    "for i in range(len(a)):\n",
    "   if (i <= len(b)-1):\n",
    "       res.append(a[len(a)-1-i] + b[len(b)-1-i])\n",
    "   else:\n",
    "       res.append(a[len(a)-1-i])\n",
    "for i in range(len(a)):\n",
    "    print(res[len(a)-i-1] , end = ' ')\n",
    "       "
   ]
  },
  {
   "cell_type": "code",
   "execution_count": 15,
   "id": "af83bd8c-96c0-4704-ba3b-51d113841ab1",
   "metadata": {},
   "outputs": [
    {
     "name": "stdin",
     "output_type": "stream",
     "text": [
      " 1 2 3\n",
      " 4 5\n"
     ]
    },
    {
     "name": "stdout",
     "output_type": "stream",
     "text": [
      "4.0 13.0 22.0 15.0 "
     ]
    }
   ],
   "source": [
    "# Bài 50\n",
    "\n",
    "## Chế đề thành nhân, nếu là công thì như bài trên\n",
    "a = list(map(float, input().split()))\n",
    "b = list(map(float, input().split()))\n",
    "res = [0]*(len(a)-1+len(b)-1+1)\n",
    "for i in range(len(a)):\n",
    "    for j in range(len(b)):\n",
    "        res[i+j] += a[i]*b[j]\n",
    "for i in res:\n",
    "    print(i, end = ' ')"
   ]
  },
  {
   "cell_type": "code",
   "execution_count": 129,
   "id": "286dcdaa-89be-4c0f-a03e-dcafaf6874ff",
   "metadata": {},
   "outputs": [
    {
     "name": "stdin",
     "output_type": "stream",
     "text": [
      " 159\n"
     ]
    },
    {
     "name": "stdout",
     "output_type": "stream",
     "text": [
      "Một trăm năm mươi chín \n"
     ]
    }
   ],
   "source": [
    "# Bài 50\n",
    "\n",
    "#2.\n",
    "tung, kqua = \"\", \"\"\n",
    "def doc(so, loai):\n",
    "    match so:\n",
    "        case 0: speech = \"không\"\n",
    "        case 1:\n",
    "            if (loai == 0):\n",
    "                speech = \"một\"\n",
    "            else: speech = \"mốt\"\n",
    "        case 2: speech = \"hai\"\n",
    "        case 3: speech = \"ba\"\n",
    "        case 4: speech = \"bốn\"\n",
    "        case 5: \n",
    "            if (loai == 0):\n",
    "                speech = \"năm\"\n",
    "            else: speech = \"lăm\"\n",
    "        case 6: speech = \"sáu\"\n",
    "        case 7: speech = \"bảy\"\n",
    "        case 8: speech = \"tám\"\n",
    "        case 9: speech = \"chín\"\n",
    "        case 10: speech = \"mười\"\n",
    "    return speech        \n",
    "def xuly(so, dau):\n",
    "    kq = \"\"\n",
    "    if (so >= 100): \n",
    "        kq += doc(so//100, 0) + \" trăm \"\n",
    "        so-=100*(so//100)\n",
    "        if (so >= 20): \n",
    "            kq += doc(so//10, 0) + \" mươi \" + doc(so%10, 1) + \" \"\n",
    "            return kq\n",
    "        elif (so >= 10 ): \n",
    "            kq += \" mười\" + doc(so%10, 0) + \" \"\n",
    "            return kq\n",
    "        elif (so > 0): \n",
    "            kq += \"linh \" + doc(so, 0)\n",
    "            return kq\n",
    "    elif (so == 0 and dau): kq += doc(so, 0)\n",
    "    elif (not dau):\n",
    "        if (so != 0): kq += \"không trăm \"\n",
    "        if (so > 20): \n",
    "            kq += \" \" + doc(so//10, 0) + \" mươi \" + doc(so%10, 1) + \" \"\n",
    "        elif (so > 10 ): kq += \" mười \" + doc(so%10, 0)\n",
    "        elif (so == 10): kq += \" mười\"\n",
    "        elif (0 < so < 10): kq += \"linh \" + doc(so, 0)\n",
    "    elif (dau):\n",
    "        if (so > 20): kq += doc(so//10,0) + \" mươi \" + doc(so%10, 1) + \" \"\n",
    "        elif (so > 10 ): kq += \" mười \" + doc(so%10, 0)\n",
    "        elif (so == 10): kq += \" mười\"\n",
    "        elif (0 < so < 10): kq += doc(so, 0) + \" \"\n",
    "    return kq\n",
    "n = int(input())\n",
    "dau = True\n",
    "if (n >= 1000000000): \n",
    "    tung += xuly(n//1000000000, dau) + \"tỉ \"\n",
    "    n -= 1000000000*(n//1000000000)\n",
    "    dau = False\n",
    "if (n >= 1000000):\n",
    "    tung += xuly(n//1000000, dau) + \"triêu \"\n",
    "    n -= 1000000*(n//1000000)\n",
    "    dau = False\n",
    "if (n >= 1000):\n",
    "    tung += xuly(n//1000, dau) +  \"nghìn \"\n",
    "    n -= 1000*(n//1000)\n",
    "    dau = False\n",
    "if (n <= 999): tung += xuly(n, dau)\n",
    "kqua = tung[0].upper() + tung[1:]\n",
    "print(kqua)\n",
    "#print(xuly(n))"
   ]
  },
  {
   "cell_type": "code",
   "execution_count": null,
   "id": "8102b31f-ee32-4e74-869f-f60fc60f6855",
   "metadata": {},
   "outputs": [],
   "source": [
    "# List"
   ]
  },
  {
   "cell_type": "code",
   "execution_count": 13,
   "id": "5660c067-0b4b-49c3-b565-04235bcc77d1",
   "metadata": {},
   "outputs": [
    {
     "name": "stdin",
     "output_type": "stream",
     "text": [
      " 5\n",
      " 1 2 1 3 5\n",
      " 1\n"
     ]
    }
   ],
   "source": [
    "# Bài 51\n",
    "\n",
    "# dùng mảng n <= 10^6\n",
    "a = [0]*1000001\n",
    "n = int(input())\n",
    "lst = list(map(int, input().split()))\n",
    "lst = sorted(lst)\n",
    "# câu a\n",
    "for i in lst:\n",
    "    print(i, end = ' ')\n",
    "    a[i]+=1\n",
    "print()\n",
    "# câu b\n",
    "x = int(input())\n",
    "print(a[x])\n",
    "# câu c\n",
    "for i in range(1, x+1):\n",
    "    if (a[i] > 0): print(i, end = ' ')\n",
    "print()\n",
    "# câu d\n",
    "for i in range(x+1, 1000001):\n",
    "    if (a[i] > 0): print(i, end = ' ')\n",
    "# jupyter bị lỗi - không chạy - không hiện "
   ]
  },
  {
   "cell_type": "code",
   "execution_count": 15,
   "id": "316b79c1-68ef-495d-8c4e-579795ec7d60",
   "metadata": {},
   "outputs": [
    {
     "name": "stdin",
     "output_type": "stream",
     "text": [
      " 5\n",
      " 1 2 1 2 3\n"
     ]
    }
   ],
   "source": [
    "# Bài 52\n",
    "\n",
    "tb = 0\n",
    "a = [0]*1000001\n",
    "n = int(input())\n",
    "lst = list(map(int, input().split()))\n",
    "lst = sorted(lst)\n",
    "for i in lst:\n",
    "    print(i, end = ' ')\n",
    "    tb += i\n",
    "print()\n",
    "print(tb/n)\n",
    "# jupyter bị lỗi - không chạy - không hiện "
   ]
  },
  {
   "cell_type": "code",
   "execution_count": 22,
   "id": "6129713d-85f5-4555-9277-1cbe2ea03042",
   "metadata": {},
   "outputs": [
    {
     "name": "stdin",
     "output_type": "stream",
     "text": [
      " 3\n",
      " 1 2 3\n",
      " 4 5 6\n",
      " 7 8 9\n"
     ]
    }
   ],
   "source": [
    "# Bài 53\n",
    "\n",
    "n = int(input())\n",
    "a = [[]]*(n+1)\n",
    "for i in range(n):\n",
    "    a[i] = list(map(int, input().split()))\n",
    "for i in range(n):\n",
    "    print(a[i][i], end = ' ')\n",
    "print()\n",
    "tmp = 0\n",
    "for i in range(n-1, -1, -1):\n",
    "    print(a[tmp][i], end = ' ')\n",
    "    tmp+=1\n",
    "# jupyter bị lỗi - không chạy - không hiện "
   ]
  },
  {
   "cell_type": "code",
   "execution_count": 23,
   "id": "49858ce2-27cf-4a18-b620-1d07a39bcdaf",
   "metadata": {},
   "outputs": [
    {
     "name": "stdin",
     "output_type": "stream",
     "text": [
      " 3\n",
      " 1 2 3 \n",
      " 4 5 6\n",
      " 7 8 9\n"
     ]
    }
   ],
   "source": [
    "# Bài 54\n",
    "\n",
    "n = int(input())\n",
    "a = [[]]*(n+1)\n",
    "for i in range(n):\n",
    "    a[i] = list(map(int, input().split()))\n",
    "for i in range(n):\n",
    "    for j in range(n):\n",
    "        if (a[i][j] != a[j][i]):\n",
    "            check = False\n",
    "            break\n",
    "if (check): print(\"Day la ma tran doi xung\")\n",
    "else: print(\"Day khong la ma tran doi xung\")\n",
    "# jupyter bị lỗi - không chạy - không hiện "
   ]
  },
  {
   "cell_type": "code",
   "execution_count": 24,
   "id": "a7dfb0e8-12d1-438b-bebe-6cfd424385d1",
   "metadata": {},
   "outputs": [
    {
     "name": "stdin",
     "output_type": "stream",
     "text": [
      " 3\n",
      " 1 2 3\n",
      " 4 5 6\n",
      " 7 8 9\n",
      " 1 1 1\n",
      " 2 2 2\n",
      " 3 3 3\n"
     ]
    }
   ],
   "source": [
    "# Bài 55\n",
    "\n",
    "n = int(input())\n",
    "## Nhập ma trận 1\n",
    "a = [[]]*(n+1)\n",
    "for i in range(n):\n",
    "    a[i] = list(map(int, input().split()))\n",
    "## Nhập ma trận 2\n",
    "b = [[]]*(n+1)\n",
    "for i in range(n):\n",
    "    b[i] = list(map(int, input().split()))\n",
    "c = [[0]*(n+1)for _ in range(n)]\n",
    "## Cộng ma trận\n",
    "for i in range(n):\n",
    "    for j in range(n):\n",
    "        c[i][j] = a[i][j] + b[i][j]\n",
    "d = [[0]*(n+1)for _ in range(n)]\n",
    "## Nhân ma trận\n",
    "for i in range(n):\n",
    "    for j in range(n):\n",
    "        for k in range(n):\n",
    "            d[i][j] += a[i][k]*b[k][i]\n",
    "for i in range(n):\n",
    "    for j in range(n):\n",
    "        print(d[i][j], end = ' ')\n",
    "    print()\n",
    "# jupyter bị lỗi - không chạy - không hiện "
   ]
  },
  {
   "cell_type": "code",
   "execution_count": 25,
   "id": "c3aae9e1-f228-4f6a-86dd-a41ddc5e9805",
   "metadata": {},
   "outputs": [
    {
     "name": "stdin",
     "output_type": "stream",
     "text": [
      " le thanh tung\n"
     ]
    }
   ],
   "source": [
    "# Bài 56\n",
    "\n",
    "chuoi = list(map(str, input().split()))\n",
    "print(len(chuoi))"
   ]
  },
  {
   "cell_type": "code",
   "execution_count": 26,
   "id": "34e47405-1d2c-4a7d-9548-e8eba530a600",
   "metadata": {},
   "outputs": [
    {
     "name": "stdin",
     "output_type": "stream",
     "text": [
      " 3\n",
      " 1 4 7\n",
      " 5\n",
      " 2 3 5 6\n"
     ]
    }
   ],
   "source": [
    "# Bài 57\n",
    "\n",
    "a = int(input())\n",
    "lst1 = list(map(int, input().split()))\n",
    "lst1 = sorted(lst1)\n",
    "b = int(input())\n",
    "lst2 = list(map(int, input().split()))\n",
    "lst2 = sorted(lst2)\n",
    "if (len(lst1) > len(lst2)): lst1, lst2 = lst2, lst1\n",
    "i = 0\n",
    "j = 0\n",
    "while (i < len(lst1) and j < len(lst1)):\n",
    "    if (lst1[i] < lst2[j]):\n",
    "        print(lst1[i], end = ' ')\n",
    "        i+=1\n",
    "    else:\n",
    "        print(lst2[j], end = ' ')\n",
    "        j+=1\n",
    "for k in range(j, len(lst2)):\n",
    "    print(lst2[k], end = ' ')\n",
    "# jupyter bị lỗi - không chạy - không hiện "
   ]
  },
  {
   "cell_type": "code",
   "execution_count": 12,
   "id": "cea4fdce-fceb-4d63-b208-2e20e5d97578",
   "metadata": {},
   "outputs": [
    {
     "name": "stdin",
     "output_type": "stream",
     "text": [
      " 2\n",
      " MSV1\n",
      " Lê\n",
      " Tùng\n",
      " 18\n",
      " Hưng Yên\n",
      " MSV2\n",
      " Nguyễn\n",
      " Quang\n",
      " 19\n",
      " Hà Nội\n"
     ]
    },
    {
     "name": "stdout",
     "output_type": "stream",
     "text": [
      "MSV1 Lê Tùng 18 Hưng Yên\n",
      "MSV2 Nguyễn Quang 19 Hà Nội\n"
     ]
    }
   ],
   "source": [
    "# Bài 58\n",
    "\n",
    "## Dùng class\n",
    "class sinhvien:\n",
    "    def __init__(self, msv = \"\", ho = \"\", ten = \"\", tuoi = \"\", que = \"\"):\n",
    "        self.msv = msv\n",
    "        self.ho = ho\n",
    "        self.ten = ten\n",
    "        self.tuoi = tuoi\n",
    "        self.que = que\n",
    "    def get_tuoi(self):\n",
    "        return int(self.tuoi)\n",
    "    def inra(self):\n",
    "        print(self.msv, self.ho, self.ten, self.tuoi, self.que)\n",
    "\n",
    "n = int(input())\n",
    "a = []\n",
    "for i in range(n):\n",
    "    msv = input()\n",
    "    ho = input()\n",
    "    ten = input()\n",
    "    tuoi = input()\n",
    "    que = input()\n",
    "    a.append(sinhvien(msv,ho,ten,tuoi,que))\n",
    "a = sorted(a, key=lambda sv: sv.get_tuoi())\n",
    "for i in range(n):\n",
    "    a[i].inra()"
   ]
  },
  {
   "cell_type": "code",
   "execution_count": null,
   "id": "3ea77a11-d096-43a5-b031-63050e3b5e85",
   "metadata": {},
   "outputs": [],
   "source": [
    "# More"
   ]
  },
  {
   "cell_type": "code",
   "execution_count": 13,
   "id": "a5d0ca86-4c4a-4b2c-8cbd-d3a5925ac47d",
   "metadata": {},
   "outputs": [
    {
     "name": "stdin",
     "output_type": "stream",
     "text": [
      " 5\n",
      " 1 2 3 4 5\n",
      " 4\n"
     ]
    },
    {
     "name": "stdout",
     "output_type": "stream",
     "text": [
      "1 2 3 "
     ]
    }
   ],
   "source": [
    "# Bài 1\n",
    "\n",
    "def loc(a,x):\n",
    "    for i in a:\n",
    "        if (i < x): print(i, end = ' ')\n",
    "    return\n",
    "n = int(input())\n",
    "a = list(map(int, input().split()))\n",
    "x = int(input())\n",
    "loc(a,x)"
   ]
  },
  {
   "cell_type": "code",
   "execution_count": 18,
   "id": "f95de8a2-151c-4101-83a4-9fdf6ac8f319",
   "metadata": {},
   "outputs": [
    {
     "name": "stdin",
     "output_type": "stream",
     "text": [
      " 5\n",
      " 1 2 3 4 5\n"
     ]
    },
    {
     "name": "stdout",
     "output_type": "stream",
     "text": [
      "1 2 3 4 5 4 "
     ]
    }
   ],
   "source": [
    "# Bài 2\n",
    "\n",
    "def xuly(a):\n",
    "    lemax = 1\n",
    "    chanmax = 2\n",
    "    le, chan = 0, 0\n",
    "    for i in a:\n",
    "        if (i%2): \n",
    "            le+=1\n",
    "            lemax = max(lemax, i)\n",
    "        else: \n",
    "            chan+=1\n",
    "            chanmax = max(chanmax, i)\n",
    "    while (le != chan):\n",
    "        if (le < chan): \n",
    "            a.append(lemax)\n",
    "            le+=1\n",
    "        else: \n",
    "            a.append(chanmax)\n",
    "            chan+=1\n",
    "    return\n",
    "n = int(input())\n",
    "a = list(map(int,input().split()))\n",
    "xuly(a)\n",
    "for i in a: print(i, end = ' ')"
   ]
  },
  {
   "cell_type": "code",
   "execution_count": 15,
   "id": "97f22ab2-0b55-4992-9076-79e0458633b8",
   "metadata": {},
   "outputs": [
    {
     "name": "stdin",
     "output_type": "stream",
     "text": [
      " 5\n",
      " 1 2 3 4 5\n"
     ]
    },
    {
     "name": "stdout",
     "output_type": "stream",
     "text": [
      "0 6 7 8 9 "
     ]
    }
   ],
   "source": [
    "# Bài 3\n",
    "\n",
    "n = int(input())\n",
    "dd = [0]*11\n",
    "a = list(map(int, input().split()))\n",
    "for i in a:\n",
    "    dd[i] = 1\n",
    "for i in range(10):\n",
    "    if (dd[i] == 0): print(i, end = ' ')"
   ]
  },
  {
   "cell_type": "code",
   "execution_count": null,
   "id": "9437169c-1c03-4066-997d-f18fb460b3b7",
   "metadata": {},
   "outputs": [],
   "source": [
    "# File"
   ]
  },
  {
   "cell_type": "code",
   "execution_count": 5,
   "id": "e32b6206-bf4a-4aca-bbe8-8aabd8e79990",
   "metadata": {},
   "outputs": [
    {
     "name": "stdin",
     "output_type": "stream",
     "text": [
      " 25\n"
     ]
    }
   ],
   "source": [
    "# Bài 59\n",
    "\n",
    "import sys\n",
    "sys.stdin = open(\"tung.inp\", \"r\")\n",
    "n = int(input())\n",
    "print(n)"
   ]
  },
  {
   "cell_type": "code",
   "execution_count": 7,
   "id": "b1aa9c51-f8d2-466f-beac-e780f9f3b234",
   "metadata": {},
   "outputs": [],
   "source": [
    "# Bài 60\n",
    "\n",
    "with open(\"string.txt\", \"r\") as f:\n",
    "    content = f.read()\n",
    "with open(\"ghide.txt\", \"w\") as f:\n",
    "    f.write(content)\n"
   ]
  },
  {
   "cell_type": "code",
   "execution_count": 10,
   "id": "4048c3ff-2baa-498b-81ce-98bf8f548769",
   "metadata": {},
   "outputs": [],
   "source": [
    "# Bài 61\n",
    "\n",
    "with open(\"F1.txt\", \"r\") as f:\n",
    "    content1 = f.read()\n",
    "with open(\"F2.txt\", \"r\") as f:\n",
    "    content2 = f.read()\n",
    "with open(\"F3.txt\", \"w\") as f:\n",
    "    f.write(content1 + content2)"
   ]
  }
 ],
 "metadata": {
  "kernelspec": {
   "display_name": "Python 3 (ipykernel)",
   "language": "python",
   "name": "python3"
  },
  "language_info": {
   "codemirror_mode": {
    "name": "ipython",
    "version": 3
   },
   "file_extension": ".py",
   "mimetype": "text/x-python",
   "name": "python",
   "nbconvert_exporter": "python",
   "pygments_lexer": "ipython3",
   "version": "3.13.7"
  }
 },
 "nbformat": 4,
 "nbformat_minor": 5
}
