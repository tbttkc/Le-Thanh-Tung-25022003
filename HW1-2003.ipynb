{
 "cells": [
  {
   "cell_type": "code",
   "execution_count": null,
   "metadata": {
    "colab": {
     "base_uri": "https://localhost:8080/"
    },
    "id": "m5CZlUr7ALFU",
    "outputId": "17e10ad7-afd9-440c-b850-58e822ad24cf"
   },
   "outputs": [
    {
     "name": "stdout",
     "output_type": "stream",
     "text": [
      "5\n",
      "10\n"
     ]
    }
   ],
   "source": [
    "#Bài 1\n",
    "\n",
    "n = int(input())\n",
    "print(2*n)"
   ]
  },
  {
   "cell_type": "code",
   "execution_count": null,
   "metadata": {
    "colab": {
     "base_uri": "https://localhost:8080/"
    },
    "id": "FMjvixEXAaaJ",
    "outputId": "98246ea4-2a95-49c0-f5d2-1cf61fc1b5ff"
   },
   "outputs": [
    {
     "name": "stdout",
     "output_type": "stream",
     "text": [
      "2 4\n",
      "4.86\n"
     ]
    }
   ],
   "source": [
    "#Bài 2\n",
    "\n",
    "a, b = map(float, input().split())\n",
    "kq = a*b - ((a**2)/4)*3.14\n",
    "print(f\"{kq:.2f}\")"
   ]
  },
  {
   "cell_type": "code",
   "execution_count": null,
   "metadata": {
    "colab": {
     "base_uri": "https://localhost:8080/"
    },
    "id": "f3gPFTgfBkRt",
    "outputId": "d38537b8-e860-4f78-c3f2-c1955692e036"
   },
   "outputs": [
    {
     "name": "stdout",
     "output_type": "stream",
     "text": [
      "E\n",
      "e\n"
     ]
    }
   ],
   "source": [
    "#Bài 3\n",
    "\n",
    "c = input()\n",
    "if c.isupper():\n",
    "  print(c.lower())\n",
    "else:\n",
    "  print(c.upper())"
   ]
  },
  {
   "cell_type": "code",
   "execution_count": null,
   "metadata": {
    "colab": {
     "base_uri": "https://localhost:8080/"
    },
    "id": "yzBVeQdXA7hA",
    "outputId": "f6c2369f-d462-4f90-b093-7462bac60600"
   },
   "outputs": [
    {
     "name": "stdout",
     "output_type": "stream",
     "text": [
      "c\n",
      "c là kí tu alphabet\n"
     ]
    }
   ],
   "source": [
    "#Bài 4\n",
    "\n",
    "c = input()\n",
    "if c.isalpha():\n",
    "  print(f\"{c} là kí tu alphabet\")\n",
    "else:\n",
    "  print(f\"{c} không phải là kí tự alphabet\")"
   ]
  },
  {
   "cell_type": "code",
   "execution_count": null,
   "metadata": {
    "colab": {
     "base_uri": "https://localhost:8080/"
    },
    "id": "quhlyE_-BN9i",
    "outputId": "3f30d1e2-ddc8-464b-fdb2-eb722d1aeacd"
   },
   "outputs": [
    {
     "name": "stdout",
     "output_type": "stream",
     "text": [
      "B\n",
      "a\n"
     ]
    }
   ],
   "source": [
    "#Bài 5\n",
    "\n",
    "c = input()\n",
    "if (c == 'A'):\n",
    "  print('z')\n",
    "else:\n",
    "  print(chr(ord(c)+31))"
   ]
  },
  {
   "cell_type": "code",
   "execution_count": 1,
   "metadata": {
    "colab": {
     "base_uri": "https://localhost:8080/"
    },
    "id": "5X1cOjCiCnk-",
    "outputId": "33ee09ef-75fd-4f27-a98d-2626226118d3"
   },
   "outputs": [
    {
     "name": "stdout",
     "output_type": "stream",
     "text": [
      "3 3 3\n",
      "3.9\n"
     ]
    }
   ],
   "source": [
    "#Bài 6\n",
    "\n",
    "a, b, c = map(float, input().split())\n",
    "if (a + b > c and a + c > a and b + c > a):\n",
    "  ncv = (a+b+c)/2\n",
    "  dt = (ncv*(ncv-a)*(ncv-b)*(ncv-c))**(1/2)\n",
    "  print(f\"{dt:.1f}\")\n",
    "else:\n",
    "  print(\"Khong phai 3 canh cua tam giac\")"
   ]
  },
  {
   "cell_type": "code",
   "execution_count": null,
   "metadata": {
    "colab": {
     "base_uri": "https://localhost:8080/"
    },
    "id": "VBwiCkb4Df9P",
    "outputId": "88f65d66-ff7d-49e1-ccb3-53d71e0655be"
   },
   "outputs": [
    {
     "name": "stdout",
     "output_type": "stream",
     "text": [
      "aaaaaaaaaaaaaaaaaaa\n",
      "a a\n"
     ]
    }
   ],
   "source": [
    "#Bài 7\n",
    "\n",
    "a = input()\n",
    "print(a[5], a[9])"
   ]
  },
  {
   "cell_type": "code",
   "execution_count": null,
   "metadata": {
    "colab": {
     "base_uri": "https://localhost:8080/"
    },
    "id": "zjROCLaIDycB",
    "outputId": "67d5d123-25dc-4abc-e809-e45d953502ec"
   },
   "outputs": [
    {
     "name": "stdout",
     "output_type": "stream",
     "text": [
      "Ten chu ho: s\n",
      "Chi so thang truoc: 2097\n",
      "Chi so thang nay: 2278\n",
      "Ho va ten: s\n",
      "Tien phai tra la: 426038\n"
     ]
    }
   ],
   "source": [
    "#Bài 8\n",
    "\n",
    "name = input(\"Ten chu ho: \")\n",
    "truoc = int(input(\"Chi so thang truoc: \"))\n",
    "nay = int(input(\"Chi so thang nay: \"))\n",
    "delta = nay - truoc\n",
    "tien = 0\n",
    "if delta < 50:\n",
    "  tien = delta*1984\n",
    "elif delta < 100:\n",
    "  tien = 50*1984 + (delta-50)*2050\n",
    "elif delta < 200:\n",
    "  tien = 50*1984 + 50*2050 + (delta-100)*2380\n",
    "elif delta < 300:\n",
    "  tien = 50*1984 + 50*2050 + 100*2380 + (delta - 200)*2998\n",
    "elif delta < 400:\n",
    "  tien = 50*1984 + 50*2050 + 100*2380 + 100*2998 + (delta-300)*3350\n",
    "else:\n",
    "  tien = tien = 50*1984 + 50*2050 + 100*2380 + 100*2998 + 100*3350 + (delta-400)*3460\n",
    "tien*=1.08\n",
    "print(f\"Ho va ten: {name}\")\n",
    "print(f\"Tien phai tra la: {int(tien)}\")"
   ]
  },
  {
   "cell_type": "code",
   "execution_count": 1,
   "metadata": {
    "colab": {
     "base_uri": "https://localhost:8080/"
    },
    "id": "133J8TAjR8_Z",
    "outputId": "dd84fb81-9e94-4e6d-b4e4-c16828158afa"
   },
   "outputs": [
    {
     "name": "stdin",
     "output_type": "stream",
     "text": [
      " 28/2/2001\n"
     ]
    },
    {
     "name": "stdout",
     "output_type": "stream",
     "text": [
      "Valid\n"
     ]
    }
   ],
   "source": [
    "## Bài tập thêm\n",
    "\n",
    "dd,mm,yy = map(int,input().split(\"/\"))\n",
    "\n",
    "Max = -1\n",
    "match mm:\n",
    "    case (4|6|9|11): Max = 30\n",
    "    case (1|3|5|7|8|10|12): Max = 31\n",
    "    case 2:\n",
    "        if (yy%400 == 0 or (yy%4 == 0 and yy%100 != 0)): Max = 29\n",
    "        else: Max = 28\n",
    "\n",
    "if (dd <= Max and dd > 0 and yy >= 1900):\n",
    "    print(\"Valid\")\n",
    "else: print(\"Invalid\")\n",
    "\n",
    "# if (dd > 0 and dd <= 31 and mm > 0 and mm <= 12 and yy >= 1900):\n",
    "#   if ((mm == 4 or mm == 6 or mm == 9 or mm == 11) and dd <= 30):\n",
    "#     print(\"VALID\")\n",
    "#   elif ((mm == 1 or mm == 3 or mm == 5 or mm == 7 or mm == 8 or mm == 10 or mm == 12) and dd <=31):\n",
    "#     print(\"VALID\")\n",
    "#   else:\n",
    "#     if (yy%400 == 0 or (yy%4 == 0 and yy%100 != 0)):\n",
    "#       if (dd <= 29):\n",
    "#         print(\"VALID\")\n",
    "#       else: print(\"INVALID\")\n",
    "#     else:\n",
    "#       if (dd < 29):\n",
    "#         print(\"VALID\")\n",
    "#       else: print(\"INVALID\")\n",
    "# else:\n",
    "#   print(\"INVALID\")"
   ]
  },
  {
   "cell_type": "markdown",
   "metadata": {
    "id": "cuRZSVgRMU0J"
   },
   "source": [
    "Bài tập khác"
   ]
  },
  {
   "cell_type": "code",
   "execution_count": 1,
   "metadata": {
    "id": "eT9fTNJvRsCX"
   },
   "outputs": [
    {
     "name": "stdin",
     "output_type": "stream",
     "text": [
      " 5\n"
     ]
    },
    {
     "name": "stdout",
     "output_type": "stream",
     "text": [
      "So le\n"
     ]
    }
   ],
   "source": [
    "# Bài 1\n",
    "\n",
    "n = int(input())\n",
    "if (n%2 == 0):\n",
    "  print(\"So chan\")\n",
    "else:\n",
    "  print(\"So le\")"
   ]
  },
  {
   "cell_type": "code",
   "execution_count": 2,
   "metadata": {},
   "outputs": [
    {
     "name": "stdin",
     "output_type": "stream",
     "text": [
      " 85\n"
     ]
    },
    {
     "name": "stdout",
     "output_type": "stream",
     "text": [
      "True\n"
     ]
    }
   ],
   "source": [
    "# Bài 2\n",
    "\n",
    "n = int(input())\n",
    "if (n%10 == 5): print(\"True\")\n",
    "else: print(\"False\")"
   ]
  },
  {
   "cell_type": "code",
   "execution_count": 3,
   "metadata": {},
   "outputs": [
    {
     "name": "stdin",
     "output_type": "stream",
     "text": [
      " 45\n"
     ]
    },
    {
     "name": "stdout",
     "output_type": "stream",
     "text": [
      "True\n"
     ]
    }
   ],
   "source": [
    "# Bài 3\n",
    "\n",
    "n = int(input())\n",
    "if (n%15 == 0):\n",
    "    print(\"True\")\n",
    "else: print(\"False\")"
   ]
  },
  {
   "cell_type": "code",
   "execution_count": 4,
   "metadata": {},
   "outputs": [
    {
     "name": "stdin",
     "output_type": "stream",
     "text": [
      " 2007\n"
     ]
    },
    {
     "name": "stdout",
     "output_type": "stream",
     "text": [
      "True\n"
     ]
    }
   ],
   "source": [
    "# Bài 4\n",
    "\n",
    "n = int(input())\n",
    "if (2025 - n >= 18): print(\"True\")\n",
    "else: print(\"Fasle\")"
   ]
  },
  {
   "cell_type": "code",
   "execution_count": 5,
   "metadata": {},
   "outputs": [
    {
     "name": "stdin",
     "output_type": "stream",
     "text": [
      " 4 5\n"
     ]
    },
    {
     "name": "stdout",
     "output_type": "stream",
     "text": [
      "4 nhỏ hơn 5\n"
     ]
    }
   ],
   "source": [
    "# Bài 5\n",
    "\n",
    "a, b = map(int, input().split())\n",
    "if (a > b): print(f\"{a} lớn hơn {b}\")\n",
    "elif (a < b): print(f\"{a} nhỏ hơn {b}\")\n",
    "else: print(\" bằng b\")"
   ]
  },
  {
   "cell_type": "code",
   "execution_count": 4,
   "metadata": {},
   "outputs": [
    {
     "name": "stdin",
     "output_type": "stream",
     "text": [
      " 5\n"
     ]
    },
    {
     "name": "stdout",
     "output_type": "stream",
     "text": [
      "5 là chữ số\n"
     ]
    }
   ],
   "source": [
    "# Bài 6\n",
    "\n",
    "a = input()\n",
    "if (a.isdigit()):\n",
    "    print(f\"{a} là chữ số\")\n",
    "elif (a.isalpha()):\n",
    "    print(f\"{a} là chữ cái\")"
   ]
  },
  {
   "cell_type": "code",
   "execution_count": 7,
   "metadata": {},
   "outputs": [
    {
     "name": "stdin",
     "output_type": "stream",
     "text": [
      " 5.3\n"
     ]
    },
    {
     "name": "stdout",
     "output_type": "stream",
     "text": [
      "Trung bình\n"
     ]
    }
   ],
   "source": [
    "# Bài 7\n",
    "\n",
    "diem = float(input())\n",
    "if (diem >= 8): print(\"Giỏi\")\n",
    "elif (diem >= 6.5): print(\"Khá\")\n",
    "elif (diem >= 5): print(\"Trung bình\")\n",
    "else: print(\"Yếu\")"
   ]
  },
  {
   "cell_type": "code",
   "execution_count": 8,
   "metadata": {},
   "outputs": [
    {
     "name": "stdin",
     "output_type": "stream",
     "text": [
      " 2000\n"
     ]
    },
    {
     "name": "stdout",
     "output_type": "stream",
     "text": [
      "2000 là năm nhuận\n"
     ]
    }
   ],
   "source": [
    "# Bài 8\n",
    "\n",
    "nam = int(input())\n",
    "if (nam % 400 == 0 or (nam %4 == 0 and nam % 100 != 0)):\n",
    "    print(f\"{nam} là năm nhuận\")\n",
    "else:\n",
    "    print(f\"{nam} không là năm nhuận\")"
   ]
  },
  {
   "cell_type": "code",
   "execution_count": 10,
   "metadata": {},
   "outputs": [
    {
     "name": "stdin",
     "output_type": "stream",
     "text": [
      " 2\n"
     ]
    },
    {
     "name": "stdout",
     "output_type": "stream",
     "text": [
      "Hai\n"
     ]
    }
   ],
   "source": [
    "# Bài 9\n",
    "\n",
    "so = int(input())\n",
    "speech = \"\"\n",
    "match so:\n",
    "    case 0: speech = \"Không\"\n",
    "    case 1: speech = \"Một\"\n",
    "    case 2: speech = \"Hai\"\n",
    "    case 3: speech = \"Ba\"\n",
    "    case 4: speech = \"Bốn\"\n",
    "    case 5: speech = \"Năm\"\n",
    "    case 6: speech = \"Sáu\"\n",
    "    case 7: speech = \"Bảy\"\n",
    "    case 8: speech = \"Tám\"\n",
    "    case 9: speech = \"Chín\"\n",
    "print(speech)\n",
    "    "
   ]
  },
  {
   "cell_type": "code",
   "execution_count": 12,
   "metadata": {},
   "outputs": [
    {
     "name": "stdin",
     "output_type": "stream",
     "text": [
      " 5.5\n"
     ]
    },
    {
     "name": "stdout",
     "output_type": "stream",
     "text": [
      "Qua môn\n"
     ]
    }
   ],
   "source": [
    "# Bài 10\n",
    "\n",
    "diem = float(input())\n",
    "if (diem >= 4): print(\"Qua môn\")\n",
    "else: print(\"Học lại\")"
   ]
  },
  {
   "cell_type": "code",
   "execution_count": 16,
   "metadata": {},
   "outputs": [
    {
     "name": "stdin",
     "output_type": "stream",
     "text": [
      " 2009\n"
     ]
    },
    {
     "name": "stdout",
     "output_type": "stream",
     "text": [
      "Bạn đã 16 tuổi và bạn chưa đủ 18 tuổi\n"
     ]
    }
   ],
   "source": [
    "# Bài 11\n",
    "\n",
    "sinh = int(input())\n",
    "tuoi = 2025 - sinh\n",
    "check = \"đã\" if tuoi >= 18 else \"chưa\"\n",
    "print(f\"Bạn đã {tuoi} tuổi và bạn {check} đủ 18 tuổi\")"
   ]
  },
  {
   "cell_type": "code",
   "execution_count": null,
   "metadata": {},
   "outputs": [],
   "source": []
  }
 ],
 "metadata": {
  "colab": {
   "provenance": []
  },
  "kernelspec": {
   "display_name": "Python 3 (ipykernel)",
   "language": "python",
   "name": "python3"
  },
  "language_info": {
   "codemirror_mode": {
    "name": "ipython",
    "version": 3
   },
   "file_extension": ".py",
   "mimetype": "text/x-python",
   "name": "python",
   "nbconvert_exporter": "python",
   "pygments_lexer": "ipython3",
   "version": "3.13.7"
  }
 },
 "nbformat": 4,
 "nbformat_minor": 4
}
