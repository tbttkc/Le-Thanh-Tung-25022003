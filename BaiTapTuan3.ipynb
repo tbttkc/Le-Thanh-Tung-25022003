{
 "cells": [
  {
   "cell_type": "code",
   "execution_count": 2,
   "id": "abc8e1df-71b3-4ff1-b61a-69e24cbda79b",
   "metadata": {},
   "outputs": [
    {
     "name": "stdin",
     "output_type": "stream",
     "text": [
      " 1 2\n"
     ]
    },
    {
     "name": "stdout",
     "output_type": "stream",
     "text": [
      "2 1\n"
     ]
    }
   ],
   "source": [
    "# W3A2\n",
    "\n",
    "a, b = map(int, input().split())\n",
    "a = a^b\n",
    "b = a^b\n",
    "a = a^b\n",
    "print(a,b)"
   ]
  },
  {
   "cell_type": "code",
   "execution_count": 3,
   "id": "cd82d73d-64d2-42f9-8431-e34dc9f78065",
   "metadata": {},
   "outputs": [
    {
     "name": "stdin",
     "output_type": "stream",
     "text": [
      " 8\n"
     ]
    },
    {
     "name": "stdout",
     "output_type": "stream",
     "text": [
      "La luy thua cua 2\n"
     ]
    }
   ],
   "source": [
    "# W3A3\n",
    "\n",
    "a = int(input())\n",
    "if (a&(a-1) == 0): print(\"La luy thua cua 2\")\n",
    "else: print(\"Khong la luy thua cua 2\")"
   ]
  },
  {
   "cell_type": "code",
   "execution_count": 4,
   "id": "4cfe8040-23f0-4dd8-bc83-f413ddb01ef2",
   "metadata": {},
   "outputs": [
    {
     "name": "stdin",
     "output_type": "stream",
     "text": [
      " 4 3\n"
     ]
    },
    {
     "name": "stdout",
     "output_type": "stream",
     "text": [
      "1\n"
     ]
    }
   ],
   "source": [
    "# W3A4\n",
    "\n",
    "m, n = map(int, input().split())\n",
    "print(m//n)"
   ]
  },
  {
   "cell_type": "code",
   "execution_count": 6,
   "id": "b8fb35c4-66b2-4a24-a83e-0923a11c1b4f",
   "metadata": {},
   "outputs": [
    {
     "name": "stdin",
     "output_type": "stream",
     "text": [
      " 4 3\n"
     ]
    },
    {
     "name": "stdout",
     "output_type": "stream",
     "text": [
      "2\n"
     ]
    }
   ],
   "source": [
    "# W3A5\n",
    "\n",
    "m, n = map(int, input().split())\n",
    "if (m%n == 0): print(m//n)\n",
    "else: print(m//n +1)"
   ]
  },
  {
   "cell_type": "code",
   "execution_count": 7,
   "id": "4c123543-3d32-4c61-8f7d-62b4b2b3bab1",
   "metadata": {},
   "outputs": [
    {
     "name": "stdin",
     "output_type": "stream",
     "text": [
      " 4\n"
     ]
    },
    {
     "name": "stdout",
     "output_type": "stream",
     "text": [
      "Even\n"
     ]
    }
   ],
   "source": [
    "# W3A6\n",
    "\n",
    "x = int(input())\n",
    "if (x%2 == 0): print(\"Even\")\n",
    "else: print(\"Odd\")"
   ]
  },
  {
   "cell_type": "code",
   "execution_count": 8,
   "id": "c0ca238b-b6e2-4c19-b96d-91619dd72672",
   "metadata": {},
   "outputs": [
    {
     "name": "stdin",
     "output_type": "stream",
     "text": [
      " -1 -5\n"
     ]
    },
    {
     "name": "stdout",
     "output_type": "stream",
     "text": [
      "Yes\n"
     ]
    }
   ],
   "source": [
    "# W3A7\n",
    "\n",
    "a, b = map(int, input().split())\n",
    "if (a < 0 and b < 0): print(\"Yes\")\n",
    "else: print(\"No\")"
   ]
  },
  {
   "cell_type": "code",
   "execution_count": 9,
   "id": "7452c740-ec1f-4fda-abb1-5a2cfe838964",
   "metadata": {},
   "outputs": [
    {
     "name": "stdin",
     "output_type": "stream",
     "text": [
      " tung tungcs2\n"
     ]
    },
    {
     "name": "stdout",
     "output_type": "stream",
     "text": [
      "False\n"
     ]
    }
   ],
   "source": [
    "# W3A8\n",
    "\n",
    "a, b = map(str, input().split())\n",
    "if (len(a) >= len(b)):\n",
    "    print(\"True\")\n",
    "else: print(\"False\")"
   ]
  },
  {
   "cell_type": "code",
   "execution_count": 10,
   "id": "5b57967d-1e22-4f03-a152-42940b70ec21",
   "metadata": {},
   "outputs": [
    {
     "name": "stdin",
     "output_type": "stream",
     "text": [
      " 1 2 3\n"
     ]
    },
    {
     "name": "stdout",
     "output_type": "stream",
     "text": [
      "No\n"
     ]
    }
   ],
   "source": [
    "# W3A9\n",
    "\n",
    "a, b, c = map(int, input().split())\n",
    "if (a+b > c and a+c>b and b+c>a):\n",
    "    print(\"Yes\")\n",
    "else: print(\"No\")"
   ]
  },
  {
   "cell_type": "code",
   "execution_count": 11,
   "id": "5d2b11a5-cedf-4736-bab5-447d47ee6557",
   "metadata": {},
   "outputs": [
    {
     "name": "stdin",
     "output_type": "stream",
     "text": [
      " 1 2 3 4\n"
     ]
    },
    {
     "name": "stdout",
     "output_type": "stream",
     "text": [
      "4\n"
     ]
    }
   ],
   "source": [
    "# W3A10\n",
    "\n",
    "a, b, c, d = map(int, input().split())\n",
    "print(max({a,b,c,d}))"
   ]
  },
  {
   "cell_type": "code",
   "execution_count": 13,
   "id": "885d09e7-e8d3-4811-885a-b1454456492c",
   "metadata": {},
   "outputs": [
    {
     "name": "stdin",
     "output_type": "stream",
     "text": [
      " 1 1 1\n"
     ]
    },
    {
     "name": "stdout",
     "output_type": "stream",
     "text": [
      "Tam giac deu\n"
     ]
    }
   ],
   "source": [
    "# W3A11\n",
    "\n",
    "a, b, c = map(float, input().split())\n",
    "if (a+b>c and a+c>b and b+c>a):\n",
    "    if (a == b and b == c): print(\"Tam giac deu\")\n",
    "    elif (a == b or b == c or a == c): print(\"Tam giac can\")\n",
    "    elif (a**2 + b**2 == c**2 or a**2 + c**2 == b**2 or b**2 + c**2 == a**2): print(\"Tam giac vuong\")\n",
    "    # cách 2\n",
    "    # elif sorted([a,b,c])[2]**2 == sorted([a,b,c])[0]**2 + sorted([a,b,c])[1]**2: print(\"Tam giac vuong\")\n",
    "    else: print(\"Tam giac thuong\")\n",
    "else: print(\"Khong la ba canh cua mot tam giac\")"
   ]
  },
  {
   "cell_type": "code",
   "execution_count": 14,
   "id": "9feadcc2-31db-4c25-a614-be4a8f549df5",
   "metadata": {},
   "outputs": [
    {
     "name": "stdin",
     "output_type": "stream",
     "text": [
      " 2000\n"
     ]
    },
    {
     "name": "stdout",
     "output_type": "stream",
     "text": [
      "Yes\n"
     ]
    }
   ],
   "source": [
    "# W3A12\n",
    "\n",
    "nam = int(input())\n",
    "if (nam%400 == 0 or (nam%4==0 and nam%100!=0)):\n",
    "    print(\"Yes\")\n",
    "else: print(\"No\")"
   ]
  },
  {
   "cell_type": "code",
   "execution_count": 20,
   "id": "f303d48d-078b-4d51-be02-24fbdaa7c9e7",
   "metadata": {},
   "outputs": [
    {
     "name": "stdin",
     "output_type": "stream",
     "text": [
      " 3 4\n"
     ]
    },
    {
     "name": "stdout",
     "output_type": "stream",
     "text": [
      "Nghiem cua phuong trinh 3x + 4 = 0 la -1.33\n"
     ]
    }
   ],
   "source": [
    "# W3A14\n",
    "\n",
    "a, b = map(float, input().split())\n",
    "if (a == 0 and b == 0): print(\"Phuong trinh co vo so nghiem\")\n",
    "elif (a == 0 and b != 0): print(\"Phuong trình vo nghiem\")\n",
    "else: print(f\"Nghiem cua phuong trinh {int(a) if a.is_integer() else a}x + {int(b) if b.is_integer() else b} = 0 la {int(-b/a) if (-b/a).is_integer() else round((-b/a),2)}\")"
   ]
  },
  {
   "cell_type": "code",
   "execution_count": 22,
   "id": "0688b04f-49e4-41ba-8061-466d91198619",
   "metadata": {},
   "outputs": [
    {
     "name": "stdin",
     "output_type": "stream",
     "text": [
      " 9.0\n"
     ]
    },
    {
     "name": "stdout",
     "output_type": "stream",
     "text": [
      "Giỏi\n"
     ]
    }
   ],
   "source": [
    "# W3A15\n",
    "\n",
    "diem = float(input())\n",
    "if (diem >= 8): print(\"Giỏi\")\n",
    "elif (diem >= 6.5): print(\"Khá\")\n",
    "elif (diem >= 5): print(\"Trung bình\")\n",
    "else: print(\"Yếu\")"
   ]
  },
  {
   "cell_type": "code",
   "execution_count": 24,
   "id": "a6b5e88d-90b8-406a-be35-2d4ded2b0a1e",
   "metadata": {},
   "outputs": [
    {
     "name": "stdin",
     "output_type": "stream",
     "text": [
      " 5.665\n"
     ]
    },
    {
     "name": "stdout",
     "output_type": "stream",
     "text": [
      "6 5 6\n"
     ]
    }
   ],
   "source": [
    "# W3A16\n",
    "\n",
    "so = float(input())\n",
    "nguyen = int(so)\n",
    "du = abs(nguyen-so)\n",
    "if (so >= 0.5):\n",
    "    print(nguyen+1, nguyen, nguyen+1)\n",
    "else:\n",
    "    print(nguyen+1, nguyen, nguyen)"
   ]
  },
  {
   "cell_type": "code",
   "execution_count": 26,
   "id": "09ff45a6-9a6b-49e1-a4cf-440b07089ce0",
   "metadata": {},
   "outputs": [
    {
     "name": "stdin",
     "output_type": "stream",
     "text": [
      "  1.5 3 6 12 \n"
     ]
    },
    {
     "name": "stdout",
     "output_type": "stream",
     "text": [
      "Day la cap so nhan co cong boi la 2\n"
     ]
    }
   ],
   "source": [
    "# W3A17\n",
    "\n",
    "a, b, c, d = map(float, input().split())\n",
    "if (b%a == 0):\n",
    "    if (d/c == c/b == b/a): print(f\"Day la cap so nhan co cong boi la {int(b/a)}\")\n",
    "    else: print(\"Khong la cap so nhan\")\n",
    "else: print(\"Khong la cap so nhan\")"
   ]
  },
  {
   "cell_type": "code",
   "execution_count": null,
   "id": "af61eb5c-2b9e-44a1-8cc9-b0b5874642df",
   "metadata": {},
   "outputs": [],
   "source": []
  }
 ],
 "metadata": {
  "kernelspec": {
   "display_name": "Python 3 (ipykernel)",
   "language": "python",
   "name": "python3"
  },
  "language_info": {
   "codemirror_mode": {
    "name": "ipython",
    "version": 3
   },
   "file_extension": ".py",
   "mimetype": "text/x-python",
   "name": "python",
   "nbconvert_exporter": "python",
   "pygments_lexer": "ipython3",
   "version": "3.13.7"
  }
 },
 "nbformat": 4,
 "nbformat_minor": 5
}
